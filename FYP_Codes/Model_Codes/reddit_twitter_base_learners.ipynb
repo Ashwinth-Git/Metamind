{
  "nbformat": 4,
  "nbformat_minor": 0,
  "metadata": {
    "colab": {
      "provenance": [],
      "toc_visible": true
    },
    "kernelspec": {
      "name": "python3",
      "display_name": "Python 3"
    },
    "language_info": {
      "name": "python"
    }
  },
  "cells": [
    {
      "cell_type": "markdown",
      "source": [
        "# RNN structure base learners\n"
      ],
      "metadata": {
        "id": "eP5VbSf1kChH"
      }
    },
    {
      "cell_type": "code",
      "source": [
        "import pandas as pd\n",
        "import numpy as np\n",
        "import matplotlib.pyplot as plt\n",
        "import seaborn as sns\n",
        "from sklearn.preprocessing import MinMaxScaler\n",
        "from sklearn.metrics import mean_squared_error, mean_absolute_error, r2_score\n",
        "from keras.models import Sequential\n",
        "from keras.layers import Dense, LSTM, Dropout, SimpleRNN, GRU, Bidirectional, ConvLSTM2D, BatchNormalization, Flatten, Dense\n",
        "from sklearn.model_selection import train_test_split\n",
        "from tensorflow.keras import regularizers\n",
        "from keras.layers import Dropout\n"
      ],
      "metadata": {
        "id": "eaJuiF4gkHLG"
      },
      "execution_count": null,
      "outputs": []
    },
    {
      "cell_type": "code",
      "source": [
        "# Loading the reddit and bitcoin merged dataset\n",
        "df = pd.read_csv('/content/drive/MyDrive/FYP/dataset/Merged Dataset/reddit_bitcoin_merged.csv', index_col='timestamp', parse_dates=True)\n",
        "df = df.drop(columns=['flair', 'compound', 'polarity', 'subjectivity', 'open', 'high', 'low'])"
      ],
      "metadata": {
        "id": "VVTLkOPVkmgm"
      },
      "execution_count": null,
      "outputs": []
    },
    {
      "cell_type": "code",
      "source": [
        "# Loading the twitter and bitcoin merged dataset\n",
        "df = pd.read_csv('/content/drive/MyDrive/FYP/dataset/Merged Dataset/twitter_bitcoin_merged.csv', parse_dates=True)\n",
        "df = df.rename(columns={'Unnamed: 0': 'timestamp'})\n",
        "df = df.drop(columns=['compound', 'polarity', 'subjectivity', 'open', 'high', 'low'])\n",
        "df.set_index('timestamp', inplace=True)"
      ],
      "metadata": {
        "id": "Q5lhAUaJkz1Z"
      },
      "execution_count": null,
      "outputs": []
    },
    {
      "cell_type": "code",
      "source": [
        "df"
      ],
      "metadata": {
        "id": "nRgoBbnrYmJi"
      },
      "execution_count": null,
      "outputs": []
    },
    {
      "cell_type": "markdown",
      "source": [
        "## Feature scaling"
      ],
      "metadata": {
        "id": "syy63IRSZA_g"
      }
    },
    {
      "cell_type": "code",
      "source": [
        "# Create the target variable by shifting the 'close' column one hour into the future\n",
        "df['target'] = df['close'].shift(-1)\n",
        "\n",
        "# Drop missing values\n",
        "df = df.dropna()\n",
        "\n",
        "# Visualise the dataframe\n",
        "df"
      ],
      "metadata": {
        "id": "qJ717vOrm_gn"
      },
      "execution_count": null,
      "outputs": []
    },
    {
      "cell_type": "code",
      "source": [
        "features = ['pos', 'neg', 'neu', 'close', 'volume']\n",
        "df[features]\n"
      ],
      "metadata": {
        "id": "D45BEcXukYM4"
      },
      "execution_count": null,
      "outputs": []
    },
    {
      "cell_type": "code",
      "source": [
        "# Split into features and target\n",
        "X = df.drop('target', axis=1).values\n",
        "y = df['target'].values.reshape(-1, 1)\n"
      ],
      "metadata": {
        "id": "TTnpsb4ylRqm"
      },
      "execution_count": null,
      "outputs": []
    },
    {
      "cell_type": "code",
      "source": [
        "# Split into train, validation, and test sets\n",
        "train_size = int(0.7 * len(X))\n",
        "val_size = int(0.1 * len(X))\n",
        "test_size = len(X) - train_size - val_size\n",
        "X_train, X_val, X_test = X[:train_size], X[train_size:train_size+val_size], X[train_size+val_size:]\n",
        "y_train, y_val, y_test = y[:train_size], y[train_size:train_size+val_size], y[train_size+val_size:]\n",
        "\n",
        "# Scale the data\n",
        "scaler_X = MinMaxScaler()\n",
        "X_train_scaled = scaler_X.fit_transform(X_train)\n",
        "X_val_scaled = scaler_X.transform(X_val)\n",
        "X_test_scaled = scaler_X.transform(X_test)\n",
        "\n",
        "scaler_y = MinMaxScaler()\n",
        "y_train_scaled = scaler_y.fit_transform(y_train)\n",
        "y_val_scaled = scaler_y.transform(y_val)\n",
        "y_test_scaled = scaler_y.transform(y_test)\n",
        "\n",
        "# Reshape input to be 3D [samples, timesteps, features]\n",
        "n_features = X.shape[1]\n",
        "X_train_reshaped = X_train_scaled.reshape((X_train_scaled.shape[0], 1, n_features))\n",
        "X_val_reshaped = X_val_scaled.reshape((X_val_scaled.shape[0], 1, n_features))\n",
        "X_test_reshaped = X_test_scaled.reshape((X_test_scaled.shape[0], 1, n_features))"
      ],
      "metadata": {
        "id": "J4CCqvBW5_Vc"
      },
      "execution_count": null,
      "outputs": []
    },
    {
      "cell_type": "code",
      "source": [
        "n_features"
      ],
      "metadata": {
        "colab": {
          "base_uri": "https://localhost:8080/"
        },
        "id": "cckHI2a-BOeL",
        "outputId": "d65e71e9-a9f7-4fc3-eb8a-5c0d3a148689"
      },
      "execution_count": null,
      "outputs": [
        {
          "output_type": "execute_result",
          "data": {
            "text/plain": [
              "5"
            ]
          },
          "metadata": {},
          "execution_count": 9
        }
      ]
    },
    {
      "cell_type": "code",
      "source": [
        "df"
      ],
      "metadata": {
        "colab": {
          "base_uri": "https://localhost:8080/",
          "height": 455
        },
        "id": "VFUaWLs7cRWm",
        "outputId": "92f9ccac-a2ca-4e28-e7f9-180f48f80a7e"
      },
      "execution_count": null,
      "outputs": [
        {
          "output_type": "execute_result",
          "data": {
            "text/plain": [
              "                          pos       neg       neu      open     close  \\\n",
              "timestamp                                                               \n",
              "2021-01-01 00:00:00  0.263000  0.000000  0.737000  28923.63  28995.13   \n",
              "2021-01-01 01:00:00  0.079167  0.093917  0.826917  28995.13  29409.99   \n",
              "2021-01-01 02:00:00  0.129125  0.049500  0.821500  29410.00  29194.65   \n",
              "2021-01-01 03:00:00  0.052200  0.101200  0.846600  29195.25  29278.40   \n",
              "2021-01-01 04:00:00  0.054091  0.047545  0.898273  29278.41  29220.31   \n",
              "...                       ...       ...       ...       ...       ...   \n",
              "2021-12-31 19:00:00  0.180000  0.146000  0.674000  46686.42  45728.28   \n",
              "2021-12-31 20:00:00  0.066000  0.000000  0.934000  45728.28  45879.24   \n",
              "2021-12-31 21:00:00  0.021333  0.032667  0.946000  45886.66  46333.86   \n",
              "2021-12-31 22:00:00  0.183000  0.000000  0.817000  46333.87  46303.99   \n",
              "2021-12-31 23:00:00  0.105667  0.033333  0.861000  46303.98  46216.93   \n",
              "\n",
              "                          volume  \n",
              "timestamp                         \n",
              "2021-01-01 00:00:00  2311.811445  \n",
              "2021-01-01 01:00:00  5403.068471  \n",
              "2021-01-01 02:00:00  2384.231560  \n",
              "2021-01-01 03:00:00  1461.345077  \n",
              "2021-01-01 04:00:00  2038.046803  \n",
              "...                          ...  \n",
              "2021-12-31 19:00:00  3851.309020  \n",
              "2021-12-31 20:00:00  1831.412020  \n",
              "2021-12-31 21:00:00  1734.695850  \n",
              "2021-12-31 22:00:00   991.851420  \n",
              "2021-12-31 23:00:00   985.997620  \n",
              "\n",
              "[8418 rows x 6 columns]"
            ],
            "text/html": [
              "\n",
              "  <div id=\"df-65f55d6c-8fce-43d4-9e4c-808a96496e4c\">\n",
              "    <div class=\"colab-df-container\">\n",
              "      <div>\n",
              "<style scoped>\n",
              "    .dataframe tbody tr th:only-of-type {\n",
              "        vertical-align: middle;\n",
              "    }\n",
              "\n",
              "    .dataframe tbody tr th {\n",
              "        vertical-align: top;\n",
              "    }\n",
              "\n",
              "    .dataframe thead th {\n",
              "        text-align: right;\n",
              "    }\n",
              "</style>\n",
              "<table border=\"1\" class=\"dataframe\">\n",
              "  <thead>\n",
              "    <tr style=\"text-align: right;\">\n",
              "      <th></th>\n",
              "      <th>pos</th>\n",
              "      <th>neg</th>\n",
              "      <th>neu</th>\n",
              "      <th>open</th>\n",
              "      <th>close</th>\n",
              "      <th>volume</th>\n",
              "    </tr>\n",
              "    <tr>\n",
              "      <th>timestamp</th>\n",
              "      <th></th>\n",
              "      <th></th>\n",
              "      <th></th>\n",
              "      <th></th>\n",
              "      <th></th>\n",
              "      <th></th>\n",
              "    </tr>\n",
              "  </thead>\n",
              "  <tbody>\n",
              "    <tr>\n",
              "      <th>2021-01-01 00:00:00</th>\n",
              "      <td>0.263000</td>\n",
              "      <td>0.000000</td>\n",
              "      <td>0.737000</td>\n",
              "      <td>28923.63</td>\n",
              "      <td>28995.13</td>\n",
              "      <td>2311.811445</td>\n",
              "    </tr>\n",
              "    <tr>\n",
              "      <th>2021-01-01 01:00:00</th>\n",
              "      <td>0.079167</td>\n",
              "      <td>0.093917</td>\n",
              "      <td>0.826917</td>\n",
              "      <td>28995.13</td>\n",
              "      <td>29409.99</td>\n",
              "      <td>5403.068471</td>\n",
              "    </tr>\n",
              "    <tr>\n",
              "      <th>2021-01-01 02:00:00</th>\n",
              "      <td>0.129125</td>\n",
              "      <td>0.049500</td>\n",
              "      <td>0.821500</td>\n",
              "      <td>29410.00</td>\n",
              "      <td>29194.65</td>\n",
              "      <td>2384.231560</td>\n",
              "    </tr>\n",
              "    <tr>\n",
              "      <th>2021-01-01 03:00:00</th>\n",
              "      <td>0.052200</td>\n",
              "      <td>0.101200</td>\n",
              "      <td>0.846600</td>\n",
              "      <td>29195.25</td>\n",
              "      <td>29278.40</td>\n",
              "      <td>1461.345077</td>\n",
              "    </tr>\n",
              "    <tr>\n",
              "      <th>2021-01-01 04:00:00</th>\n",
              "      <td>0.054091</td>\n",
              "      <td>0.047545</td>\n",
              "      <td>0.898273</td>\n",
              "      <td>29278.41</td>\n",
              "      <td>29220.31</td>\n",
              "      <td>2038.046803</td>\n",
              "    </tr>\n",
              "    <tr>\n",
              "      <th>...</th>\n",
              "      <td>...</td>\n",
              "      <td>...</td>\n",
              "      <td>...</td>\n",
              "      <td>...</td>\n",
              "      <td>...</td>\n",
              "      <td>...</td>\n",
              "    </tr>\n",
              "    <tr>\n",
              "      <th>2021-12-31 19:00:00</th>\n",
              "      <td>0.180000</td>\n",
              "      <td>0.146000</td>\n",
              "      <td>0.674000</td>\n",
              "      <td>46686.42</td>\n",
              "      <td>45728.28</td>\n",
              "      <td>3851.309020</td>\n",
              "    </tr>\n",
              "    <tr>\n",
              "      <th>2021-12-31 20:00:00</th>\n",
              "      <td>0.066000</td>\n",
              "      <td>0.000000</td>\n",
              "      <td>0.934000</td>\n",
              "      <td>45728.28</td>\n",
              "      <td>45879.24</td>\n",
              "      <td>1831.412020</td>\n",
              "    </tr>\n",
              "    <tr>\n",
              "      <th>2021-12-31 21:00:00</th>\n",
              "      <td>0.021333</td>\n",
              "      <td>0.032667</td>\n",
              "      <td>0.946000</td>\n",
              "      <td>45886.66</td>\n",
              "      <td>46333.86</td>\n",
              "      <td>1734.695850</td>\n",
              "    </tr>\n",
              "    <tr>\n",
              "      <th>2021-12-31 22:00:00</th>\n",
              "      <td>0.183000</td>\n",
              "      <td>0.000000</td>\n",
              "      <td>0.817000</td>\n",
              "      <td>46333.87</td>\n",
              "      <td>46303.99</td>\n",
              "      <td>991.851420</td>\n",
              "    </tr>\n",
              "    <tr>\n",
              "      <th>2021-12-31 23:00:00</th>\n",
              "      <td>0.105667</td>\n",
              "      <td>0.033333</td>\n",
              "      <td>0.861000</td>\n",
              "      <td>46303.98</td>\n",
              "      <td>46216.93</td>\n",
              "      <td>985.997620</td>\n",
              "    </tr>\n",
              "  </tbody>\n",
              "</table>\n",
              "<p>8418 rows × 6 columns</p>\n",
              "</div>\n",
              "      <button class=\"colab-df-convert\" onclick=\"convertToInteractive('df-65f55d6c-8fce-43d4-9e4c-808a96496e4c')\"\n",
              "              title=\"Convert this dataframe to an interactive table.\"\n",
              "              style=\"display:none;\">\n",
              "        \n",
              "  <svg xmlns=\"http://www.w3.org/2000/svg\" height=\"24px\"viewBox=\"0 0 24 24\"\n",
              "       width=\"24px\">\n",
              "    <path d=\"M0 0h24v24H0V0z\" fill=\"none\"/>\n",
              "    <path d=\"M18.56 5.44l.94 2.06.94-2.06 2.06-.94-2.06-.94-.94-2.06-.94 2.06-2.06.94zm-11 1L8.5 8.5l.94-2.06 2.06-.94-2.06-.94L8.5 2.5l-.94 2.06-2.06.94zm10 10l.94 2.06.94-2.06 2.06-.94-2.06-.94-.94-2.06-.94 2.06-2.06.94z\"/><path d=\"M17.41 7.96l-1.37-1.37c-.4-.4-.92-.59-1.43-.59-.52 0-1.04.2-1.43.59L10.3 9.45l-7.72 7.72c-.78.78-.78 2.05 0 2.83L4 21.41c.39.39.9.59 1.41.59.51 0 1.02-.2 1.41-.59l7.78-7.78 2.81-2.81c.8-.78.8-2.07 0-2.86zM5.41 20L4 18.59l7.72-7.72 1.47 1.35L5.41 20z\"/>\n",
              "  </svg>\n",
              "      </button>\n",
              "      \n",
              "  <style>\n",
              "    .colab-df-container {\n",
              "      display:flex;\n",
              "      flex-wrap:wrap;\n",
              "      gap: 12px;\n",
              "    }\n",
              "\n",
              "    .colab-df-convert {\n",
              "      background-color: #E8F0FE;\n",
              "      border: none;\n",
              "      border-radius: 50%;\n",
              "      cursor: pointer;\n",
              "      display: none;\n",
              "      fill: #1967D2;\n",
              "      height: 32px;\n",
              "      padding: 0 0 0 0;\n",
              "      width: 32px;\n",
              "    }\n",
              "\n",
              "    .colab-df-convert:hover {\n",
              "      background-color: #E2EBFA;\n",
              "      box-shadow: 0px 1px 2px rgba(60, 64, 67, 0.3), 0px 1px 3px 1px rgba(60, 64, 67, 0.15);\n",
              "      fill: #174EA6;\n",
              "    }\n",
              "\n",
              "    [theme=dark] .colab-df-convert {\n",
              "      background-color: #3B4455;\n",
              "      fill: #D2E3FC;\n",
              "    }\n",
              "\n",
              "    [theme=dark] .colab-df-convert:hover {\n",
              "      background-color: #434B5C;\n",
              "      box-shadow: 0px 1px 3px 1px rgba(0, 0, 0, 0.15);\n",
              "      filter: drop-shadow(0px 1px 2px rgba(0, 0, 0, 0.3));\n",
              "      fill: #FFFFFF;\n",
              "    }\n",
              "  </style>\n",
              "\n",
              "      <script>\n",
              "        const buttonEl =\n",
              "          document.querySelector('#df-65f55d6c-8fce-43d4-9e4c-808a96496e4c button.colab-df-convert');\n",
              "        buttonEl.style.display =\n",
              "          google.colab.kernel.accessAllowed ? 'block' : 'none';\n",
              "\n",
              "        async function convertToInteractive(key) {\n",
              "          const element = document.querySelector('#df-65f55d6c-8fce-43d4-9e4c-808a96496e4c');\n",
              "          const dataTable =\n",
              "            await google.colab.kernel.invokeFunction('convertToInteractive',\n",
              "                                                     [key], {});\n",
              "          if (!dataTable) return;\n",
              "\n",
              "          const docLinkHtml = 'Like what you see? Visit the ' +\n",
              "            '<a target=\"_blank\" href=https://colab.research.google.com/notebooks/data_table.ipynb>data table notebook</a>'\n",
              "            + ' to learn more about interactive tables.';\n",
              "          element.innerHTML = '';\n",
              "          dataTable['output_type'] = 'display_data';\n",
              "          await google.colab.output.renderOutput(dataTable, element);\n",
              "          const docLink = document.createElement('div');\n",
              "          docLink.innerHTML = docLinkHtml;\n",
              "          element.appendChild(docLink);\n",
              "        }\n",
              "      </script>\n",
              "    </div>\n",
              "  </div>\n",
              "  "
            ]
          },
          "metadata": {},
          "execution_count": 10
        }
      ]
    },
    {
      "cell_type": "markdown",
      "source": [
        "## LSTM base learner"
      ],
      "metadata": {
        "id": "ixc6FoXWNq1t"
      }
    },
    {
      "cell_type": "code",
      "source": [
        "# Define the model\n",
        "model_lstm = Sequential()\n",
        "model_lstm.add(LSTM(80, activation='relu',kernel_regularizer=regularizers.l2(0.001), input_shape=(1, n_features), return_sequences=True))\n",
        "model_lstm.add(Dropout(0.2))\n",
        "model_lstm.add(LSTM(60, activation='relu', kernel_regularizer=regularizers.l2(0.001)))\n",
        "model_lstm.add(Dropout(0.2))\n",
        "model_lstm.add(Dense(1))\n",
        "model_lstm.compile(optimizer='adam', loss='mse')\n",
        "\n",
        "# Fit the model\n",
        "history = model_lstm.fit(X_train_reshaped, y_train_scaled, epochs=20, batch_size=50, validation_data=(X_val_reshaped, y_val_scaled), verbose=2, shuffle=False)\n",
        "\n",
        "\n",
        "# Plot the loss and validation loss for lstm model\n",
        "plt.plot(history.history['loss'], label='Training Loss')\n",
        "plt.plot(history.history['val_loss'], label='Validation Loss')\n",
        "plt.xlabel('Epoch')\n",
        "plt.ylabel('Loss')\n",
        "plt.legend()\n",
        "plt.show()"
      ],
      "metadata": {
        "id": "_5mMovUD6Ftj"
      },
      "execution_count": null,
      "outputs": []
    },
    {
      "cell_type": "code",
      "source": [
        "# Make predictions on train and test sets for lstm model\n",
        "y_train_pred_lstm = model_lstm.predict(X_train_reshaped)\n",
        "y_val_pred_lstm = model_lstm.predict(X_val_reshaped)\n",
        "y_test_pred_lstm = model_lstm.predict(X_test_reshaped)\n",
        "\n",
        "# Inverse transform the predictions for lstm model\n",
        "y_train_pred_inv_lstm = scaler_y.inverse_transform(y_train_pred_lstm)\n",
        "y_val_pred_inv_lstm = scaler_y.inverse_transform(y_val_pred_lstm)\n",
        "y_test_pred_inv_lstm = scaler_y.inverse_transform(y_test_pred_lstm)"
      ],
      "metadata": {
        "id": "MsjiYgjP6Sms"
      },
      "execution_count": null,
      "outputs": []
    },
    {
      "cell_type": "code",
      "source": [
        "# Inverse transform the actual close prices for lstm model\n",
        "y_train_actual_lstm = scaler_y.inverse_transform(y_train_scaled)\n",
        "y_val_actual_lstm = scaler_y.inverse_transform(y_val_scaled)\n",
        "y_test_actual_lstm = scaler_y.inverse_transform(y_test_scaled)\n",
        "\n",
        "# Calculate MAE, RMSE, and R2 scores for lstm model\n",
        "mae_train_lstm = mean_absolute_error(y_train_actual_lstm, y_train_pred_inv_lstm)\n",
        "mae_val_lstm = mean_absolute_error(y_val_actual_lstm, y_val_pred_inv_lstm)\n",
        "mae_test_lstm = mean_absolute_error(y_test_actual_lstm, y_test_pred_inv_lstm)\n",
        "\n",
        "rmse_train_lstm = np.sqrt(mean_squared_error(y_train_actual_lstm, y_train_pred_inv_lstm, squared=False))\n",
        "rmse_val_lstm = np.sqrt(mean_squared_error(y_val_actual_lstm, y_val_pred_inv_lstm, squared=False))\n",
        "rmse_test_lstm = np.sqrt(mean_squared_error(y_test_actual_lstm, y_test_pred_inv_lstm, squared=False))\n",
        "\n",
        "r2_train_lstm = r2_score(y_train_actual_lstm, y_train_pred_inv_lstm)\n",
        "r2_val_lstm = r2_score(y_val_actual_lstm, y_val_pred_inv_lstm)\n",
        "r2_test_lstm = r2_score(y_test_actual_lstm, y_test_pred_inv_lstm)\n",
        "\n",
        "print(\"LSTM Training MAE: {:.2f}\".format(mae_train_lstm))\n",
        "print(\"LSTM Validation MAE: {:.2f}\".format(mae_val_lstm))\n",
        "print(\"LSTM Testing MAE: {:.2f}\".format(mae_test_lstm))\n",
        "print(\"LSTM Training RMSE: {:.2f}\".format(rmse_train_lstm))\n",
        "print(\"LSTM Validation RMSE: {:.2f}\".format(rmse_val_lstm))\n",
        "print(\"LSTM Testing RMSE: {:.2f}\".format(rmse_test_lstm))\n",
        "print(\"LSTM Training R2 Score: {:.4f}\".format(r2_train_lstm))\n",
        "print(\"LSTM Validation R2 Score: {:.4f}\".format(r2_val_lstm))\n",
        "print(\"LSTM Testing R2 Score: {:.4f}\".format(r2_test_lstm))\n"
      ],
      "metadata": {
        "id": "pDyV7kKW6WsC"
      },
      "execution_count": null,
      "outputs": []
    },
    {
      "cell_type": "code",
      "source": [
        "# Save the model\n",
        "# model_lstm.save('/content/drive/MyDrive/FYP/rnn_base_models/5_features/reddit_lstm.h5')\n",
        "# model_lstm.save('/content/drive/MyDrive/FYP/rnn_base_models/5_features/twitter_lstm.h5')"
      ],
      "metadata": {
        "id": "PpRsNyzwBfNu"
      },
      "execution_count": null,
      "outputs": []
    },
    {
      "cell_type": "code",
      "source": [
        "# Create a dataframe for the actual and predicted close prices for lstm model\n",
        "# df['timestamp'] = pd.to_datetime(df.index)\n",
        "\n",
        "# Train data\n",
        "df_train_pred = pd.DataFrame({'timestamp': df.index[:train_size], 'actual_close': y_train_actual_lstm.reshape(-1), 'predicted_close': y_train_pred_inv_lstm.reshape(-1)})\n",
        "\n",
        "# Validation data\n",
        "df_val_pred = pd.DataFrame({'timestamp': df.index[train_size:train_size+val_size], 'actual_close': y_val_actual_lstm.reshape(-1), 'predicted_close': y_val_pred_inv_lstm.reshape(-1)})\n",
        "\n",
        "# Test data\n",
        "df_test_pred = pd.DataFrame({'timestamp': df.index[train_size+val_size:], 'actual_close': y_test_actual_lstm.reshape(-1), 'predicted_close': y_test_pred_inv_lstm.reshape(-1)})\n",
        "\n",
        "# Plot the actual and predicted close prices for lstm model\n",
        "plt.figure(figsize=(12, 6))\n",
        "plt.plot(df_train_pred['timestamp'], df_train_pred['actual_close'], label='Actual Train Close Price')\n",
        "plt.plot(df_train_pred['timestamp'], df_train_pred['predicted_close'], label='Predicted Train Close Price')\n",
        "plt.plot(df_val_pred['timestamp'], df_val_pred['actual_close'], label='Actual Validation Close Price')\n",
        "plt.plot(df_val_pred['timestamp'], df_val_pred['predicted_close'], label='Predicted Validation Close Price')\n",
        "plt.plot(df_test_pred['timestamp'], df_test_pred['actual_close'], label='Actual Test Close Price')\n",
        "plt.plot(df_test_pred['timestamp'], df_test_pred['predicted_close'], label='Predicted Test Close Price')\n",
        "plt.xlabel('Timestamp')\n",
        "plt.ylabel('Close Price')\n",
        "plt.legend()\n",
        "plt.title('Actual vs. Predicted Close Prices')\n",
        "plt.show()\n"
      ],
      "metadata": {
        "id": "0bYF0o8Z66hb"
      },
      "execution_count": null,
      "outputs": []
    },
    {
      "cell_type": "code",
      "source": [
        "# Calculating percentage error for lstm model\n",
        "percentage_error=abs((y_test_actual_lstm - y_test_pred_inv_lstm)*100/y_test_actual_lstm)\n",
        "print(\"Percentage error between actual and predicted bitcoin prices for LSTM = \",  percentage_error.mean(),\"%\")"
      ],
      "metadata": {
        "id": "sRaznitDQlEV"
      },
      "execution_count": null,
      "outputs": []
    },
    {
      "cell_type": "code",
      "source": [
        "# Get the last 10 rows of the data and drop the 'target' and 'datetime' columns\n",
        "last_10_rows = df.tail(10).drop(['close'], axis=1)\n",
        "\n",
        "# Scale the last 10 rows of data\n",
        "last_10_rows_scaled = scaler_X.transform(last_10_rows)\n",
        "\n",
        "# Reshape the input to be 3D [samples, timesteps, features]\n",
        "last_10_rows_reshaped = last_10_rows_scaled.reshape((last_10_rows_scaled.shape[0], 1, last_10_rows_scaled.shape[1]))\n",
        "\n",
        "# Predict the price of Bitcoin for the next hour\n",
        "next_hour_price = model_lstm.predict(last_10_rows_reshaped)[-1][0]\n",
        "\n",
        "# Inverse transform the predicted price\n",
        "next_hour_price = scaler_y.inverse_transform([[next_hour_price]])[0][0]\n",
        "\n",
        "print(f\"The predicted price of Bitcoin in the next hour is {next_hour_price:.2f}\")\n"
      ],
      "metadata": {
        "id": "TKyEk9UYYMNc"
      },
      "execution_count": null,
      "outputs": []
    },
    {
      "cell_type": "markdown",
      "source": [
        "## Simple RNN base learner"
      ],
      "metadata": {
        "id": "5YErOup9TMWt"
      }
    },
    {
      "cell_type": "code",
      "source": [
        "# Define the model\n",
        "model_rnn = Sequential()\n",
        "model_rnn.add(SimpleRNN(100, activation='relu', kernel_regularizer=regularizers.l2(0.001), input_shape=(1, n_features), return_sequences=True))\n",
        "model_rnn.add(Dropout(0.25))\n",
        "model_rnn.add(SimpleRNN(80, activation='relu', kernel_regularizer=regularizers.l2(0.001), return_sequences=False))\n",
        "model_rnn.add(Dropout(0.25))\n",
        "model_rnn.add(Dense(1))\n",
        "model_rnn.compile(optimizer='adam', loss='mse')\n",
        "\n",
        "# Fit the model\n",
        "history = model_rnn.fit(X_train_reshaped, y_train_scaled, epochs=15, batch_size=65, validation_data=(X_val_reshaped, y_val_scaled), verbose=2, shuffle=False)\n",
        "\n",
        "\n",
        "# Plot the loss and validation loss for simple rnn model\n",
        "plt.plot(history.history['loss'], label='Training Loss')\n",
        "plt.plot(history.history['val_loss'], label='Validation Loss')\n",
        "plt.xlabel('Epoch')\n",
        "plt.ylabel('Loss')\n",
        "plt.legend()\n",
        "plt.show()\n"
      ],
      "metadata": {
        "id": "1mZjwlvTTRjk"
      },
      "execution_count": null,
      "outputs": []
    },
    {
      "cell_type": "code",
      "source": [
        "# Make predictions on train and test sets for lstm model\n",
        "y_train_pred_rnn = model_rnn.predict(X_train_reshaped)\n",
        "y_val_pred_rnn = model_rnn.predict(X_val_reshaped)\n",
        "y_test_pred_rnn = model_rnn.predict(X_test_reshaped)\n",
        "\n",
        "# Inverse transform the predictions for lstm model\n",
        "y_train_pred_inv_rnn = scaler_y.inverse_transform(y_train_pred_rnn)\n",
        "y_val_pred_inv_rnn = scaler_y.inverse_transform(y_val_pred_rnn)\n",
        "y_test_pred_inv_rnn = scaler_y.inverse_transform(y_test_pred_rnn)\n"
      ],
      "metadata": {
        "id": "G66Px06TTUk8"
      },
      "execution_count": null,
      "outputs": []
    },
    {
      "cell_type": "code",
      "source": [
        "# Inverse transform the actual close prices for lstm model\n",
        "y_train_actual_rnn = scaler_y.inverse_transform(y_train_scaled)\n",
        "y_val_actual_rnn = scaler_y.inverse_transform(y_val_scaled)\n",
        "y_test_actual_rnn = scaler_y.inverse_transform(y_test_scaled)\n",
        "\n",
        "# Calculate MAE, RMSE, and R2 scores for lstm model\n",
        "mae_train_rnn = mean_absolute_error(y_train_actual_rnn, y_train_pred_inv_rnn)\n",
        "mae_val_rnn = mean_absolute_error(y_val_actual_rnn, y_val_pred_inv_rnn)\n",
        "mae_test_rnn = mean_absolute_error(y_test_actual_rnn, y_test_pred_inv_rnn)\n",
        "\n",
        "rmse_train_rnn = np.sqrt(mean_squared_error(y_train_actual_rnn, y_train_pred_inv_rnn, squared=False))\n",
        "rmse_val_rnn = np.sqrt(mean_squared_error(y_val_actual_rnn, y_val_pred_inv_rnn, squared=False))\n",
        "rmse_test_rnn = np.sqrt(mean_squared_error(y_test_actual_rnn, y_test_pred_inv_rnn, squared=False))\n",
        "\n",
        "r2_train_rnn = r2_score(y_train_actual_rnn, y_train_pred_inv_rnn)\n",
        "r2_val_rnn = r2_score(y_val_actual_rnn, y_val_pred_inv_rnn)\n",
        "r2_test_rnn = r2_score(y_test_actual_rnn, y_test_pred_inv_rnn)\n",
        "\n",
        "print(\"Simple RNN Training MAE: {:.2f}\".format(mae_train_rnn))\n",
        "print(\"Simple RNN Validation MAE: {:.2f}\".format(mae_val_rnn))\n",
        "print(\"Simple RNN Testing MAE: {:.2f}\".format(mae_test_rnn))\n",
        "print(\"Simple RNN Training RMSE: {:.2f}\".format(rmse_train_rnn))\n",
        "print(\"Simple RNN Validation RMSE: {:.2f}\".format(rmse_val_rnn))\n",
        "print(\"Simple RNN Testing RMSE: {:.2f}\".format(rmse_test_rnn))\n",
        "print(\"Simple RNN Training R2 Score: {:.4f}\".format(r2_train_rnn))\n",
        "print(\"Simple RNN Validation R2 Score: {:.4f}\".format(r2_val_rnn))\n",
        "print(\"Simple RNN Testing R2 Score: {:.4f}\".format(r2_test_rnn))"
      ],
      "metadata": {
        "id": "lekgWhMQTWn1"
      },
      "execution_count": null,
      "outputs": []
    },
    {
      "cell_type": "code",
      "source": [
        "# Save the model\n",
        "# model_rnn.save('/content/drive/MyDrive/FYP/rnn_base_models/5_features/reddit_rnn.h5')\n",
        "# model_rnn.save('/content/drive/MyDrive/FYP/rnn_base_models/5_features/twitter_rnn.h5')"
      ],
      "metadata": {
        "id": "ahCpbS_IBc3t"
      },
      "execution_count": null,
      "outputs": []
    },
    {
      "cell_type": "code",
      "source": [
        "# Create a dataframe for the actual and predicted close prices for rnn model\n",
        "# df['timestamp'] = pd.to_datetime(df.index)\n",
        "\n",
        "# Train data\n",
        "df_train_pred = pd.DataFrame({'timestamp': df.index[:train_size], 'actual_close': y_train_actual_rnn.reshape(-1), 'predicted_close': y_train_pred_inv_rnn.reshape(-1)})\n",
        "\n",
        "# Validation data\n",
        "df_val_pred = pd.DataFrame({'timestamp': df.index[train_size:train_size+val_size], 'actual_close': y_val_actual_rnn.reshape(-1), 'predicted_close': y_val_pred_inv_rnn.reshape(-1)})\n",
        "\n",
        "# Test data\n",
        "df_test_pred = pd.DataFrame({'timestamp': df.index[train_size+val_size:], 'actual_close': y_test_actual_rnn.reshape(-1), 'predicted_close': y_test_pred_inv_rnn.reshape(-1)})\n",
        "\n",
        "# Plot the actual and predicted close prices for rnn model\n",
        "plt.figure(figsize=(12, 6))\n",
        "plt.plot(df_train_pred['timestamp'], df_train_pred['actual_close'], label='Actual Train Close Price')\n",
        "plt.plot(df_train_pred['timestamp'], df_train_pred['predicted_close'], label='Predicted Train Close Price')\n",
        "plt.plot(df_val_pred['timestamp'], df_val_pred['actual_close'], label='Actual Validation Close Price')\n",
        "plt.plot(df_val_pred['timestamp'], df_val_pred['predicted_close'], label='Predicted Validation Close Price')\n",
        "plt.plot(df_test_pred['timestamp'], df_test_pred['actual_close'], label='Actual Test Close Price')\n",
        "plt.plot(df_test_pred['timestamp'], df_test_pred['predicted_close'], label='Predicted Test Close Price')\n",
        "plt.xlabel('Timestamp')\n",
        "plt.ylabel('Close Price')\n",
        "plt.legend()\n",
        "plt.title('Actual vs. Predicted Close Prices')\n",
        "plt.show()\n"
      ],
      "metadata": {
        "id": "aS1iC3mPTYut"
      },
      "execution_count": null,
      "outputs": []
    },
    {
      "cell_type": "code",
      "source": [
        "# Calculating percentage error for simple rnn model\n",
        "percentage_error=abs((y_test_actual_rnn - y_test_pred_inv_rnn)*100/y_test_actual_rnn)\n",
        "print(\"Percentage error between actual and predicted bitcoin prices for Simple RNN = \",  percentage_error.mean(),\"%\")"
      ],
      "metadata": {
        "id": "mKepWMKPTbPU"
      },
      "execution_count": null,
      "outputs": []
    },
    {
      "cell_type": "code",
      "source": [
        "# Get the last 10 rows of the data and drop the 'target' and 'datetime' columns\n",
        "last_10_rows = df.tail(10).drop(['target', 'timestamp'], axis=1)\n",
        "\n",
        "# Scale the last 10 rows of data\n",
        "last_10_rows_scaled = scaler_X.transform(last_10_rows)\n",
        "\n",
        "# Reshape the input to be 3D [samples, timesteps, features]\n",
        "last_10_rows_reshaped = last_10_rows_scaled.reshape((last_10_rows_scaled.shape[0], 1, last_10_rows_scaled.shape[1]))\n",
        "\n",
        "# Predict the price of Bitcoin for the next hour\n",
        "next_hour_price = model_rnn.predict(last_10_rows_reshaped)[-1][0]\n",
        "\n",
        "# Inverse transform the predicted price\n",
        "next_hour_price = scaler_y.inverse_transform([[next_hour_price]])[0][0]\n",
        "\n",
        "print(f\"The predicted price of Bitcoin in the next hour is {next_hour_price:.2f}\")"
      ],
      "metadata": {
        "id": "b6zeiMZJyimM"
      },
      "execution_count": null,
      "outputs": []
    },
    {
      "cell_type": "markdown",
      "source": [
        "## GRU base learner"
      ],
      "metadata": {
        "id": "AJc_iRH4TdpW"
      }
    },
    {
      "cell_type": "code",
      "source": [
        "# Define the model\n",
        "model_gru = Sequential()\n",
        "model_gru.add(GRU(100, activation='relu', kernel_regularizer=regularizers.l2(0.001), input_shape=(1, n_features), return_sequences=True))\n",
        "model_gru.add(Dropout(0.2))\n",
        "model_gru.add(GRU(75, activation='relu', kernel_regularizer=regularizers.l2(0.001)))\n",
        "model_gru.add(Dropout(0.2))\n",
        "model_gru.add(Dense(1))\n",
        "model_gru.compile(optimizer='adam', loss='mse')\n",
        "\n",
        "# Fit the model\n",
        "history = model_gru.fit(X_train_reshaped, y_train_scaled, epochs=20, batch_size=60, validation_data=(X_val_reshaped, y_val_scaled), verbose=2, shuffle=False)\n",
        "\n",
        "\n",
        "# Plot the loss and validation loss for gru model\n",
        "plt.plot(history.history['loss'], label='Training Loss')\n",
        "plt.plot(history.history['val_loss'], label='Validation Loss')\n",
        "plt.xlabel('Epoch')\n",
        "plt.ylabel('Loss')\n",
        "plt.legend()\n",
        "plt.show()\n"
      ],
      "metadata": {
        "id": "EhiRO3wczD5h"
      },
      "execution_count": null,
      "outputs": []
    },
    {
      "cell_type": "code",
      "source": [
        "# Make predictions on train and test sets for gru model\n",
        "y_train_pred_gru = model_gru.predict(X_train_reshaped)\n",
        "y_val_pred_gru = model_gru.predict(X_val_reshaped)\n",
        "y_test_pred_gru = model_gru.predict(X_test_reshaped)\n",
        "\n",
        "# Inverse transform the predictions for gru model\n",
        "y_train_pred_inv_gru = scaler_y.inverse_transform(y_train_pred_gru)\n",
        "y_val_pred_inv_gru = scaler_y.inverse_transform(y_val_pred_gru)\n",
        "y_test_pred_inv_gru = scaler_y.inverse_transform(y_test_pred_gru)\n"
      ],
      "metadata": {
        "id": "fDadtM_izeX4"
      },
      "execution_count": null,
      "outputs": []
    },
    {
      "cell_type": "code",
      "source": [
        "# Inverse transform the actual close prices for gru model\n",
        "y_train_actual_gru = scaler_y.inverse_transform(y_train_scaled)\n",
        "y_val_actual_gru = scaler_y.inverse_transform(y_val_scaled)\n",
        "y_test_actual_gru = scaler_y.inverse_transform(y_test_scaled)\n",
        "\n",
        "# Calculate MAE, RMSE, and R2 scores for gru model\n",
        "mae_train_gru = mean_absolute_error(y_train_actual_gru, y_train_pred_inv_gru)\n",
        "mae_val_gru = mean_absolute_error(y_val_actual_gru, y_val_pred_inv_gru)\n",
        "mae_test_gru = mean_absolute_error(y_test_actual_gru, y_test_pred_inv_gru)\n",
        "\n",
        "rmse_train_gru = np.sqrt(mean_squared_error(y_train_actual_gru, y_train_pred_inv_gru, squared=False))\n",
        "rmse_val_gru = np.sqrt(mean_squared_error(y_val_actual_gru, y_val_pred_inv_gru, squared=False))\n",
        "rmse_test_gru = np.sqrt(mean_squared_error(y_test_actual_gru, y_test_pred_inv_gru, squared=False))\n",
        "\n",
        "r2_train_gru = r2_score(y_train_actual_gru, y_train_pred_inv_gru)\n",
        "r2_val_gru = r2_score(y_val_actual_gru, y_val_pred_inv_gru)\n",
        "r2_test_gru = r2_score(y_test_actual_gru, y_test_pred_inv_gru)\n",
        "\n",
        "print(\"GRU Training MAE: {:.2f}\".format(mae_train_gru))\n",
        "print(\"GRU Validation MAE: {:.2f}\".format(mae_val_gru))\n",
        "print(\"GRU Testing MAE: {:.2f}\".format(mae_test_gru))\n",
        "print(\"GRU Training RMSE: {:.2f}\".format(rmse_train_gru))\n",
        "print(\"GRU Validation RMSE: {:.2f}\".format(rmse_val_gru))\n",
        "print(\"GRU Testing RMSE: {:.2f}\".format(rmse_test_gru))\n",
        "print(\"GRU Training R2 Score: {:.4f}\".format(r2_train_gru))\n",
        "print(\"GRU Validation R2 Score: {:.4f}\".format(r2_val_gru))\n",
        "print(\"GRU Testing R2 Score: {:.4f}\".format(r2_test_gru))"
      ],
      "metadata": {
        "id": "uk0xrrLAzfHZ"
      },
      "execution_count": null,
      "outputs": []
    },
    {
      "cell_type": "code",
      "source": [
        "# Save the model\n",
        "# model_gru.save('/content/drive/MyDrive/FYP/rnn_base_models/5_features/reddit_gru.h5')\n",
        "# model_gru.save('/content/drive/MyDrive/FYP/rnn_base_models/5_features/twitter_gru.h5')"
      ],
      "metadata": {
        "id": "peeQmw0SBaL-"
      },
      "execution_count": null,
      "outputs": []
    },
    {
      "cell_type": "code",
      "source": [
        "# Create a dataframe for the actual and predicted close prices for gru model\n",
        "# df['timestamp'] = pd.to_datetime(df.index)\n",
        "\n",
        "# Train data\n",
        "df_train_pred = pd.DataFrame({'timestamp': df.index[:train_size], 'actual_close': y_train_actual_gru.reshape(-1), 'predicted_close': y_train_pred_inv_gru.reshape(-1)})\n",
        "\n",
        "# Validation data\n",
        "df_val_pred = pd.DataFrame({'timestamp': df.index[train_size:train_size+val_size], 'actual_close': y_val_actual_gru.reshape(-1), 'predicted_close': y_val_pred_inv_gru.reshape(-1)})\n",
        "\n",
        "# Test data\n",
        "df_test_pred = pd.DataFrame({'timestamp': df.index[train_size+val_size:], 'actual_close': y_test_actual_gru.reshape(-1), 'predicted_close': y_test_pred_inv_gru.reshape(-1)})\n",
        "\n",
        "# Plot the actual and predicted close prices for gru model\n",
        "plt.figure(figsize=(12, 6))\n",
        "plt.plot(df_train_pred['timestamp'], df_train_pred['actual_close'], label='Actual Train Close Price')\n",
        "plt.plot(df_train_pred['timestamp'], df_train_pred['predicted_close'], label='Predicted Train Close Price')\n",
        "plt.plot(df_val_pred['timestamp'], df_val_pred['actual_close'], label='Actual Validation Close Price')\n",
        "plt.plot(df_val_pred['timestamp'], df_val_pred['predicted_close'], label='Predicted Validation Close Price')\n",
        "plt.plot(df_test_pred['timestamp'], df_test_pred['actual_close'], label='Actual Test Close Price')\n",
        "plt.plot(df_test_pred['timestamp'], df_test_pred['predicted_close'], label='Predicted Test Close Price')\n",
        "plt.xlabel('Timestamp')\n",
        "plt.ylabel('Close Price')\n",
        "plt.legend()\n",
        "plt.title('Actual vs. Predicted Close Prices')\n",
        "plt.show()\n"
      ],
      "metadata": {
        "id": "xa98aa_ezg_A"
      },
      "execution_count": null,
      "outputs": []
    },
    {
      "cell_type": "code",
      "source": [
        "# Calculating percentage error for gru model\n",
        "percentage_error=abs((y_test_actual_gru - y_test_pred_inv_gru)*100/y_test_actual_gru)\n",
        "print(\"Percentage error between actual and predicted bitcoin prices for GRU = \",  percentage_error.mean(),\"%\")"
      ],
      "metadata": {
        "id": "6PGVHzyulyJB"
      },
      "execution_count": null,
      "outputs": []
    },
    {
      "cell_type": "code",
      "source": [
        "# Get the last 10 rows of the data and drop the 'target' and 'datetime' columns\n",
        "last_10_rows = df.tail(10).drop(['target', 'timestamp'], axis=1)\n",
        "\n",
        "# Scale the last 10 rows of data\n",
        "last_10_rows_scaled = scaler_X.transform(last_10_rows)\n",
        "\n",
        "# Reshape the input to be 3D [samples, timesteps, features]\n",
        "last_10_rows_reshaped = last_10_rows_scaled.reshape((last_10_rows_scaled.shape[0], 1, last_10_rows_scaled.shape[1]))\n",
        "\n",
        "# Predict the price of Bitcoin for the next hour\n",
        "next_hour_price = model_gru.predict(last_10_rows_reshaped)[-1][0]\n",
        "\n",
        "# Inverse transform the predicted price\n",
        "next_hour_price = scaler_y.inverse_transform([[next_hour_price]])[0][0]\n",
        "\n",
        "print(f\"The predicted price of Bitcoin in the next hour is {next_hour_price:.2f}\")"
      ],
      "metadata": {
        "id": "r_c0lAVB1Zkz"
      },
      "execution_count": null,
      "outputs": []
    },
    {
      "cell_type": "markdown",
      "source": [
        "## Bidirectional LSTM base learner"
      ],
      "metadata": {
        "id": "nj8qRli9k2pU"
      }
    },
    {
      "cell_type": "code",
      "source": [
        "# Define the model\n",
        "model_bilstm = Sequential()\n",
        "model_bilstm.add(Bidirectional(LSTM(100, activation='relu', kernel_regularizer=regularizers.l2(0.001), input_shape=(1, n_features), return_sequences=False)))\n",
        "model_bilstm.add(Dropout(0.2))\n",
        "model_bilstm.add(Dense(1))\n",
        "model_bilstm.compile(optimizer='adam', loss='mse')\n",
        "\n",
        "# Fit the model\n",
        "history = model_bilstm.fit(X_train_reshaped, y_train_scaled, epochs=20, batch_size=100, validation_data=(X_val_reshaped, y_val_scaled), verbose=2, shuffle=False)\n",
        "\n",
        "\n",
        "# Plot the loss and validation loss for bilstm model\n",
        "plt.plot(history.history['loss'], label='Training Loss')\n",
        "plt.plot(history.history['val_loss'], label='Validation Loss')\n",
        "plt.xlabel('Epoch')\n",
        "plt.ylabel('Loss')\n",
        "plt.legend()\n",
        "plt.show()\n"
      ],
      "metadata": {
        "id": "5qSpSWJvlDgx"
      },
      "execution_count": null,
      "outputs": []
    },
    {
      "cell_type": "code",
      "source": [
        "# Make predictions on train and test sets for bilstm model\n",
        "y_train_pred_bilstm = model_bilstm.predict(X_train_reshaped)\n",
        "y_val_pred_bilstm = model_bilstm.predict(X_val_reshaped)\n",
        "y_test_pred_bilstm = model_bilstm.predict(X_test_reshaped)\n",
        "\n",
        "# Inverse transform the predictions for bilstm model\n",
        "y_train_pred_inv_bilstm = scaler_y.inverse_transform(y_train_pred_bilstm)\n",
        "y_val_pred_inv_bilstm = scaler_y.inverse_transform(y_val_pred_bilstm)\n",
        "y_test_pred_inv_bilstm = scaler_y.inverse_transform(y_test_pred_bilstm)\n"
      ],
      "metadata": {
        "id": "dTBBO9Omlakb"
      },
      "execution_count": null,
      "outputs": []
    },
    {
      "cell_type": "code",
      "source": [
        "# Inverse transform the actual close prices for bilstm model\n",
        "y_train_actual_bilstm = scaler_y.inverse_transform(y_train_scaled)\n",
        "y_val_actual_bilstm = scaler_y.inverse_transform(y_val_scaled)\n",
        "y_test_actual_bilstm = scaler_y.inverse_transform(y_test_scaled)\n",
        "\n",
        "# Calculate MAE, RMSE, and R2 scores for bilstm model\n",
        "mae_train_bilstm = mean_absolute_error(y_train_actual_bilstm, y_train_pred_inv_bilstm)\n",
        "mae_val_bilstm = mean_absolute_error(y_val_actual_bilstm, y_val_pred_inv_bilstm)\n",
        "mae_test_bilstm = mean_absolute_error(y_test_actual_bilstm, y_test_pred_inv_bilstm)\n",
        "\n",
        "rmse_train_bilstm = np.sqrt(mean_squared_error(y_train_actual_bilstm, y_train_pred_inv_bilstm, squared=False))\n",
        "rmse_val_bilstm = np.sqrt(mean_squared_error(y_val_actual_bilstm, y_val_pred_inv_bilstm, squared=False))\n",
        "rmse_test_bilstm = np.sqrt(mean_squared_error(y_test_actual_bilstm, y_test_pred_inv_bilstm, squared=False))\n",
        "\n",
        "r2_train_bilstm = r2_score(y_train_actual_bilstm, y_train_pred_inv_bilstm)\n",
        "r2_val_bilstm = r2_score(y_val_actual_bilstm, y_val_pred_inv_bilstm)\n",
        "r2_test_bilstm = r2_score(y_test_actual_bilstm, y_test_pred_inv_bilstm)\n",
        "\n",
        "print(\"BiLSTM Training MAE: {:.2f}\".format(mae_train_bilstm))\n",
        "print(\"BiLSTM Validation MAE: {:.2f}\".format(mae_val_bilstm))\n",
        "print(\"BiLSTM Testing MAE: {:.2f}\".format(mae_test_bilstm))\n",
        "print(\"BiLSTM Training RMSE: {:.2f}\".format(rmse_train_bilstm))\n",
        "print(\"BiLSTM Validation RMSE: {:.2f}\".format(rmse_val_bilstm))\n",
        "print(\"BiLSTM Testing RMSE: {:.2f}\".format(rmse_test_bilstm))\n",
        "print(\"BiLSTM Training R2 Score: {:.4f}\".format(r2_train_bilstm))\n",
        "print(\"BiLSTM Validation R2 Score: {:.4f}\".format(r2_val_bilstm))\n",
        "print(\"BiLSTM Testing R2 Score: {:.4f}\".format(r2_test_bilstm))"
      ],
      "metadata": {
        "id": "VQZ1mMMDlevD"
      },
      "execution_count": null,
      "outputs": []
    },
    {
      "cell_type": "code",
      "source": [
        "# Save the model\n",
        "# model_bilstm.save('/content/drive/MyDrive/FYP/rnn_base_models/5_features/reddit_bilstm.h5')\n",
        "# model_bilstm.save('/content/drive/MyDrive/FYP/rnn_base_models/5_features/twitter_bilstm.h5')"
      ],
      "metadata": {
        "id": "IeQ4Ie_MBYOO"
      },
      "execution_count": null,
      "outputs": []
    },
    {
      "cell_type": "code",
      "source": [
        "# Create a dataframe for the actual and predicted close prices for bilstm model\n",
        "# df['timestamp'] = pd.to_datetime(df.index)\n",
        "\n",
        "# Train data\n",
        "df_train_pred = pd.DataFrame({'timestamp': df.index[:train_size], 'actual_close': y_train_actual_bilstm.reshape(-1), 'predicted_close': y_train_pred_inv_bilstm.reshape(-1)})\n",
        "\n",
        "# Validation data\n",
        "df_val_pred = pd.DataFrame({'timestamp': df.index[train_size:train_size+val_size], 'actual_close': y_val_actual_bilstm.reshape(-1), 'predicted_close': y_val_pred_inv_bilstm.reshape(-1)})\n",
        "\n",
        "# Test data\n",
        "df_test_pred = pd.DataFrame({'timestamp': df.index[train_size+val_size:], 'actual_close': y_test_actual_bilstm.reshape(-1), 'predicted_close': y_test_pred_inv_bilstm.reshape(-1)})\n",
        "\n",
        "# Plot the actual and predicted close prices for bilstm model\n",
        "plt.figure(figsize=(12, 6))\n",
        "plt.plot(df_train_pred['timestamp'], df_train_pred['actual_close'], label='Actual Train Close Price')\n",
        "plt.plot(df_train_pred['timestamp'], df_train_pred['predicted_close'], label='Predicted Train Close Price')\n",
        "plt.plot(df_val_pred['timestamp'], df_val_pred['actual_close'], label='Actual Validation Close Price')\n",
        "plt.plot(df_val_pred['timestamp'], df_val_pred['predicted_close'], label='Predicted Validation Close Price')\n",
        "plt.plot(df_test_pred['timestamp'], df_test_pred['actual_close'], label='Actual Test Close Price')\n",
        "plt.plot(df_test_pred['timestamp'], df_test_pred['predicted_close'], label='Predicted Test Close Price')\n",
        "plt.xlabel('Timestamp')\n",
        "plt.ylabel('Close Price')\n",
        "plt.legend()\n",
        "plt.title('Actual vs. Predicted Close Prices')\n",
        "plt.show()"
      ],
      "metadata": {
        "id": "NJp3VjfdlnoE"
      },
      "execution_count": null,
      "outputs": []
    },
    {
      "cell_type": "code",
      "source": [
        "# Calculating percentage error for bilstm model\n",
        "percentage_error=abs((y_test_actual_bilstm - y_test_pred_inv_bilstm)*100/y_test_actual_bilstm)\n",
        "print(\"Percentage error between actual and predicted bitcoin prices for GRU = \",  percentage_error.mean(),\"%\")"
      ],
      "metadata": {
        "id": "RSfwC4CElto5"
      },
      "execution_count": null,
      "outputs": []
    },
    {
      "cell_type": "code",
      "source": [
        "# Get the last 10 rows of the data and drop the 'target' and 'datetime' columns\n",
        "last_10_rows = df.tail(10).drop(['target', 'timestamp'], axis=1)\n",
        "\n",
        "# Scale the last 10 rows of data\n",
        "last_10_rows_scaled = scaler_X.transform(last_10_rows)\n",
        "\n",
        "# Reshape the input to be 3D [samples, timesteps, features]\n",
        "last_10_rows_reshaped = last_10_rows_scaled.reshape((last_10_rows_scaled.shape[0], 1, last_10_rows_scaled.shape[1]))\n",
        "\n",
        "# Predict the price of Bitcoin for the next hour\n",
        "next_hour_price = model_bilstm.predict(last_10_rows_reshaped)[-1][0]\n",
        "\n",
        "# Inverse transform the predicted price\n",
        "next_hour_price = scaler_y.inverse_transform([[next_hour_price]])[0][0]\n",
        "\n",
        "print(f\"The predicted price of Bitcoin in the next hour is {next_hour_price:.2f}\")"
      ],
      "metadata": {
        "id": "YHeEB0wq3Y5b"
      },
      "execution_count": null,
      "outputs": []
    },
    {
      "cell_type": "markdown",
      "source": [
        "## Bidirectional GRU base learner"
      ],
      "metadata": {
        "id": "WVQsck_epNSQ"
      }
    },
    {
      "cell_type": "code",
      "source": [
        "# Define the model\n",
        "model_bigru = Sequential()\n",
        "model_bigru.add(Bidirectional(GRU(100, activation='relu', kernel_regularizer=regularizers.l2(0.001), input_shape=(1, n_features), return_sequences=False)))\n",
        "model_bigru.add(Dropout(0.2))\n",
        "model_bigru.add(Dense(1))\n",
        "model_bigru.compile(optimizer='adam', loss='mse')\n",
        "\n",
        "# Fit the model\n",
        "history = model_bigru.fit(X_train_reshaped, y_train_scaled, epochs=15, batch_size=100, validation_data=(X_val_reshaped, y_val_scaled), verbose=2, shuffle=False)\n",
        "\n",
        "\n",
        "# Plot the loss and validation loss for bigru model\n",
        "plt.plot(history.history['loss'], label='Training Loss')\n",
        "plt.plot(history.history['val_loss'], label='Validation Loss')\n",
        "plt.xlabel('Epoch')\n",
        "plt.ylabel('Loss')\n",
        "plt.legend()\n",
        "plt.show()\n"
      ],
      "metadata": {
        "id": "BxEkqHz4p6Uh"
      },
      "execution_count": null,
      "outputs": []
    },
    {
      "cell_type": "code",
      "source": [
        "# Make predictions on train and test sets for bigru model\n",
        "y_train_pred_bigru = model_bigru.predict(X_train_reshaped)\n",
        "y_val_pred_bigru = model_bigru.predict(X_val_reshaped)\n",
        "y_test_pred_bigru = model_bigru.predict(X_test_reshaped)\n",
        "\n",
        "# Inverse transform the predictions for bigru model\n",
        "y_train_pred_inv_bigru = scaler_y.inverse_transform(y_train_pred_bigru)\n",
        "y_val_pred_inv_bigru = scaler_y.inverse_transform(y_val_pred_bigru)\n",
        "y_test_pred_inv_bigru = scaler_y.inverse_transform(y_test_pred_bigru)"
      ],
      "metadata": {
        "id": "DkS2v3nLrALT"
      },
      "execution_count": null,
      "outputs": []
    },
    {
      "cell_type": "code",
      "source": [
        "# Inverse transform the actual close prices for bigru model\n",
        "y_train_actual_bigru = scaler_y.inverse_transform(y_train_scaled)\n",
        "y_val_actual_bigru = scaler_y.inverse_transform(y_val_scaled)\n",
        "y_test_actual_bigru = scaler_y.inverse_transform(y_test_scaled)\n",
        "\n",
        "# Calculate MAE, RMSE, and R2 scores for bigru model\n",
        "mae_train_bigru = mean_absolute_error(y_train_actual_bigru, y_train_pred_inv_bigru)\n",
        "mae_val_bigru = mean_absolute_error(y_val_actual_bigru, y_val_pred_inv_bigru)\n",
        "mae_test_bigru = mean_absolute_error(y_test_actual_bigru, y_test_pred_inv_bigru)\n",
        "\n",
        "rmse_train_bigru = np.sqrt(mean_squared_error(y_train_actual_bigru, y_train_pred_inv_bigru, squared=False))\n",
        "rmse_val_bigru = np.sqrt(mean_squared_error(y_val_actual_bigru, y_val_pred_inv_bigru, squared=False))\n",
        "rmse_test_bigru = np.sqrt(mean_squared_error(y_test_actual_bigru, y_test_pred_inv_bigru, squared=False))\n",
        "\n",
        "r2_train_bigru = r2_score(y_train_actual_bigru, y_train_pred_inv_bigru)\n",
        "r2_val_bigru = r2_score(y_val_actual_bigru, y_val_pred_inv_bigru)\n",
        "r2_test_bigru = r2_score(y_test_actual_bigru, y_test_pred_inv_bigru)\n",
        "\n",
        "print(\"BiGRU Training MAE: {:.2f}\".format(mae_train_bigru))\n",
        "print(\"BiGRU Validation MAE: {:.2f}\".format(mae_val_bigru))\n",
        "print(\"BiGRU Testing MAE: {:.2f}\".format(mae_test_bigru))\n",
        "print(\"BiGRU Training RMSE: {:.2f}\".format(rmse_train_bigru))\n",
        "print(\"BiGRU Validation RMSE: {:.2f}\".format(rmse_val_bigru))\n",
        "print(\"BiGRU Testing RMSE: {:.2f}\".format(rmse_test_bigru))\n",
        "print(\"BiGRU Training R2 Score: {:.4f}\".format(r2_train_bigru))\n",
        "print(\"BiGRU Validation R2 Score: {:.4f}\".format(r2_val_bigru))\n",
        "print(\"BiGRU Testing R2 Score: {:.4f}\".format(r2_test_bigru))"
      ],
      "metadata": {
        "id": "3lLofH78rCLj"
      },
      "execution_count": null,
      "outputs": []
    },
    {
      "cell_type": "code",
      "source": [
        "# Save the model\n",
        "# model_bigru.save('/content/drive/MyDrive/FYP/rnn_base_models/5_features/reddit_bigru.h5')\n",
        "# model_bigru.save('/content/drive/MyDrive/FYP/rnn_base_models/5_features/twitter_bigru.h5')"
      ],
      "metadata": {
        "id": "mhb2AJbfBUv2"
      },
      "execution_count": null,
      "outputs": []
    },
    {
      "cell_type": "code",
      "source": [
        "# Create a dataframe for the actual and predicted close prices for bigru model\n",
        "# df['timestamp'] = pd.to_datetime(df.index)\n",
        "\n",
        "# Train data\n",
        "df_train_pred = pd.DataFrame({'timestamp': df.index[:train_size], 'actual_close': y_train_actual_bigru.reshape(-1), 'predicted_close': y_train_pred_inv_bigru.reshape(-1)})\n",
        "\n",
        "# Validation data\n",
        "df_val_pred = pd.DataFrame({'timestamp': df.index[train_size:train_size+val_size], 'actual_close': y_val_actual_bigru.reshape(-1), 'predicted_close': y_val_pred_inv_bigru.reshape(-1)})\n",
        "\n",
        "# Test data\n",
        "df_test_pred = pd.DataFrame({'timestamp': df.index[train_size+val_size:], 'actual_close': y_test_actual_bigru.reshape(-1), 'predicted_close': y_test_pred_inv_bigru.reshape(-1)})\n",
        "\n",
        "# Plot the actual and predicted close prices for bigru model\n",
        "plt.figure(figsize=(12, 6))\n",
        "plt.plot(df_train_pred['timestamp'], df_train_pred['actual_close'], label='Actual Train Close Price')\n",
        "plt.plot(df_train_pred['timestamp'], df_train_pred['predicted_close'], label='Predicted Train Close Price')\n",
        "plt.plot(df_val_pred['timestamp'], df_val_pred['actual_close'], label='Actual Validation Close Price')\n",
        "plt.plot(df_val_pred['timestamp'], df_val_pred['predicted_close'], label='Predicted Validation Close Price')\n",
        "plt.plot(df_test_pred['timestamp'], df_test_pred['actual_close'], label='Actual Test Close Price')\n",
        "plt.plot(df_test_pred['timestamp'], df_test_pred['predicted_close'], label='Predicted Test Close Price')\n",
        "plt.xlabel('Timestamp')\n",
        "plt.ylabel('Close Price')\n",
        "plt.legend()\n",
        "plt.title('Actual vs. Predicted Close Prices')\n",
        "plt.show()"
      ],
      "metadata": {
        "id": "mRL3knGjrEIr"
      },
      "execution_count": null,
      "outputs": []
    },
    {
      "cell_type": "code",
      "source": [
        "# Calculating percentage error for bigru model\n",
        "percentage_error=abs((y_test_actual_bigru - y_test_pred_inv_bigru)*100/y_test_actual_bigru)\n",
        "print(\"Percentage error between actual and predicted bitcoin prices for GRU = \",  percentage_error.mean(),\"%\")"
      ],
      "metadata": {
        "id": "9usSCey2fK-P"
      },
      "execution_count": null,
      "outputs": []
    },
    {
      "cell_type": "code",
      "source": [
        "# Get the last 10 rows of the data and drop the 'target' and 'datetime' columns\n",
        "last_10_rows = df.tail(10).drop(['target', 'timestamp'], axis=1)\n",
        "\n",
        "# Scale the last 10 rows of data\n",
        "last_10_rows_scaled = scaler_X.transform(last_10_rows)\n",
        "\n",
        "# Reshape the input to be 3D [samples, timesteps, features]\n",
        "last_10_rows_reshaped = last_10_rows_scaled.reshape((last_10_rows_scaled.shape[0], 1, last_10_rows_scaled.shape[1]))\n",
        "\n",
        "# Predict the price of Bitcoin for the next hour\n",
        "next_hour_price = model_bigru.predict(last_10_rows_reshaped)[-1][0]\n",
        "\n",
        "# Inverse transform the predicted price\n",
        "next_hour_price = scaler_y.inverse_transform([[next_hour_price]])[0][0]\n",
        "\n",
        "print(f\"The predicted price of Bitcoin in the next hour is {next_hour_price:.2f}\")"
      ],
      "metadata": {
        "id": "pH4dhc6r-HXW"
      },
      "execution_count": null,
      "outputs": []
    }
  ]
}