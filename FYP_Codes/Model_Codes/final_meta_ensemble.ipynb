{
  "nbformat": 4,
  "nbformat_minor": 0,
  "metadata": {
    "colab": {
      "provenance": [],
      "collapsed_sections": [
        "vy911gt3w8Pk",
        "oB4QiSj3xAS0",
        "t5k-v_8fxEOU",
        "yhD9ap7XxMEb",
        "9VvDiGtYxPYc"
      ]
    },
    "kernelspec": {
      "name": "python3",
      "display_name": "Python 3"
    },
    "language_info": {
      "name": "python"
    }
  },
  "cells": [
    {
      "cell_type": "markdown",
      "source": [
        "## Modifying data and scaling the data for training and testing "
      ],
      "metadata": {
        "id": "CIZUnhpt4OAY"
      }
    },
    {
      "cell_type": "code",
      "source": [
        "from sklearn.preprocessing import MinMaxScaler\n",
        "from sklearn.model_selection import train_test_split\n",
        "import pickle\n",
        "import numpy as np\n",
        "from tensorflow.keras.models import load_model\n",
        "import pandas as pd\n",
        "from sklearn.metrics import mean_squared_error, mean_absolute_error, r2_score\n",
        "import matplotlib.pyplot as plt\n",
        "\n",
        "from sklearn.linear_model import LinearRegression\n",
        "from sklearn.tree import DecisionTreeRegressor\n",
        "from sklearn.ensemble import RandomForestRegressor\n",
        "from sklearn.linear_model import ElasticNet\n",
        "from sklearn.svm import SVR\n",
        "from sklearn.ensemble import GradientBoostingRegressor\n",
        "from sklearn.ensemble import AdaBoostRegressor"
      ],
      "metadata": {
        "id": "3vV_g9J_4WD4"
      },
      "execution_count": null,
      "outputs": []
    },
    {
      "cell_type": "code",
      "source": [
        "df_combined = pd.read_csv('/content/drive/MyDrive/FYP/dataset/Merged Dataset/reddit_twitter_bitcoin_merged.csv')"
      ],
      "metadata": {
        "id": "z_tl9htmwxzR"
      },
      "execution_count": null,
      "outputs": []
    },
    {
      "cell_type": "code",
      "source": [
        "df_combined = df_combined.drop(columns=['polarity', 'subjectivity', 'open', 'high', 'low'])"
      ],
      "metadata": {
        "id": "Ty3I29IPK7xJ"
      },
      "execution_count": null,
      "outputs": []
    },
    {
      "cell_type": "code",
      "source": [
        "df_combined"
      ],
      "metadata": {
        "id": "3M8vjywTxI8B"
      },
      "execution_count": null,
      "outputs": []
    },
    {
      "cell_type": "code",
      "source": [
        "df_combined.set_index('timestamp', inplace=True)"
      ],
      "metadata": {
        "id": "_UeRTX9AzIbA"
      },
      "execution_count": null,
      "outputs": []
    },
    {
      "cell_type": "code",
      "source": [
        "# Shift the \"close\" column 1 hour into the future and make it the target variable\n",
        "df_combined[\"target\"] = df_combined[\"close\"].shift(-1)\n",
        "df_combined = df_combined.iloc[:-1]\n",
        "\n",
        "# Drop missing values\n",
        "data = df_combined.dropna()\n",
        "\n",
        "# Visualise the dataframe\n",
        "df_combined"
      ],
      "metadata": {
        "id": "XqasH3vSy0yB"
      },
      "execution_count": null,
      "outputs": []
    },
    {
      "cell_type": "markdown",
      "source": [
        "## Splitting data for training and testing "
      ],
      "metadata": {
        "id": "iME2UHft4kXg"
      }
    },
    {
      "cell_type": "code",
      "source": [
        "# Split into features and target\n",
        "X = df_combined.drop('target', axis=1).values\n",
        "y = df_combined['target'].values.reshape(-1, 1)\n",
        "\n",
        "# Split into train, validation, and test sets\n",
        "train_size = int(0.8 * len(X))\n",
        "test_size = len(X) - train_size \n",
        "X_train, X_test = X[:train_size], X[train_size:]\n",
        "y_train, y_test = y[:train_size], y[train_size:]\n",
        "\n",
        "# Scale the data\n",
        "scaler_X = MinMaxScaler()\n",
        "X_train_scaled = scaler_X.fit_transform(X_train)\n",
        "X_test_scaled = scaler_X.transform(X_test)\n",
        "\n",
        "scaler_y = MinMaxScaler()\n",
        "y_train_scaled = scaler_y.fit_transform(y_train)\n",
        "y_test_scaled = scaler_y.transform(y_test)\n",
        "\n",
        "# Reshape input to be 3D [samples, timesteps, features]\n",
        "n_features = X.shape[1]\n",
        "X_train_reshaped = X_train_scaled.reshape((X_train_scaled.shape[0], 1, n_features))\n",
        "X_test_reshaped = X_test_scaled.reshape((X_test_scaled.shape[0], 1, n_features))"
      ],
      "metadata": {
        "id": "KdUwj6sIzO4T"
      },
      "execution_count": null,
      "outputs": []
    },
    {
      "cell_type": "code",
      "source": [
        "print(n_features)"
      ],
      "metadata": {
        "id": "VhadNz97nlVF"
      },
      "execution_count": null,
      "outputs": []
    },
    {
      "cell_type": "markdown",
      "source": [
        "## Loading twitter base model and making predictions for train and test"
      ],
      "metadata": {
        "id": "q2w-x0Ngn7Xi"
      }
    },
    {
      "cell_type": "code",
      "source": [
        "# Load the five saved models\n",
        "model_rnn_twitter = load_model('/content/drive/MyDrive/FYP/rnn_base_models/5_features/twitter_rnn.h5')\n",
        "model_lstm_twitter = load_model('/content/drive/MyDrive/FYP/rnn_base_models/5_features/twitter_lstm.h5')\n",
        "model_gru_twitter = load_model('/content/drive/MyDrive/FYP/rnn_base_models/5_features/twitter_gru.h5')\n",
        "model_bilstm_twitter = load_model('/content/drive/MyDrive/FYP/rnn_base_models/5_features/twitter_bilstm.h5')\n",
        "model_bigru_twitter = load_model('/content/drive/MyDrive/FYP/rnn_base_models/5_features/twitter_bigru.h5')"
      ],
      "metadata": {
        "id": "t2-xkQ1dlL5i"
      },
      "execution_count": null,
      "outputs": []
    },
    {
      "cell_type": "code",
      "source": [
        "# Generate predictions from the five models\n",
        "preds_train_rnn = model_rnn_twitter.predict(X_train_reshaped)\n",
        "preds_train_lstm = model_lstm_twitter.predict(X_train_reshaped)\n",
        "preds_train_gru = model_gru_twitter.predict(X_train_reshaped)\n",
        "preds_train_bilstm = model_bilstm_twitter.predict(X_train_reshaped)\n",
        "preds_train_bigru = model_bigru_twitter.predict(X_train_reshaped)\n",
        "\n",
        "# Stack the predictions into a single matrix\n",
        "base_preds_train_twitter = np.column_stack((preds_train_rnn, preds_train_lstm, preds_train_gru, preds_train_bilstm, preds_train_bigru))"
      ],
      "metadata": {
        "id": "59RmeGDKmmIs"
      },
      "execution_count": null,
      "outputs": []
    },
    {
      "cell_type": "code",
      "source": [
        "# Generate predictions from the five models\n",
        "preds_test_rnn = model_rnn_twitter.predict(X_test_reshaped)\n",
        "preds_test_lstm = model_lstm_twitter.predict(X_test_reshaped)\n",
        "preds_test_gru = model_gru_twitter.predict(X_test_reshaped)\n",
        "preds_test_bilstm = model_bilstm_twitter.predict(X_test_reshaped)\n",
        "preds_test_bigru = model_bigru_twitter.predict(X_test_reshaped)\n",
        "\n",
        "# Stack the predictions into a single matrix\n",
        "base_preds_test_twitter = np.column_stack((preds_test_rnn, preds_test_lstm, preds_test_gru, preds_test_bilstm, preds_test_bigru))"
      ],
      "metadata": {
        "id": "BCpFnWv-mmWh"
      },
      "execution_count": null,
      "outputs": []
    },
    {
      "cell_type": "markdown",
      "source": [
        "## Loading reddit base models and making predictions for train and test"
      ],
      "metadata": {
        "id": "YG4enN_JoE-i"
      }
    },
    {
      "cell_type": "code",
      "source": [
        "# Load the five saved models\n",
        "model_rnn_reddit = load_model('/content/drive/MyDrive/FYP/rnn_base_models/5_features/reddit_rnn.h5')\n",
        "model_lstm_reddit = load_model('/content/drive/MyDrive/FYP/rnn_base_models/5_features/reddit_lstm.h5')\n",
        "model_gru_reddit = load_model('/content/drive/MyDrive/FYP/rnn_base_models/5_features/reddit_gru.h5')\n",
        "model_bilstm_reddit = load_model('/content/drive/MyDrive/FYP/rnn_base_models/5_features/reddit_bilstm.h5')\n",
        "model_bigru_reddit = load_model('/content/drive/MyDrive/FYP/rnn_base_models/5_features/reddit_bigru.h5')"
      ],
      "metadata": {
        "id": "QEXIsUAQmeKh"
      },
      "execution_count": null,
      "outputs": []
    },
    {
      "cell_type": "code",
      "source": [
        "# Generate predictions from the five models\n",
        "preds_train_rnn = model_rnn_reddit.predict(X_train_reshaped)\n",
        "preds_train_lstm = model_lstm_reddit.predict(X_train_reshaped)\n",
        "preds_train_gru = model_gru_reddit.predict(X_train_reshaped)\n",
        "preds_train_bilstm = model_bilstm_reddit.predict(X_train_reshaped)\n",
        "preds_train_bigru = model_bigru_reddit.predict(X_train_reshaped)\n",
        "\n",
        "# Stack the predictions into a single matrix\n",
        "base_preds_train_reddit = np.column_stack((preds_train_rnn, preds_train_lstm, preds_train_gru, preds_train_bilstm, preds_train_bigru))"
      ],
      "metadata": {
        "id": "6eZYM0-Am7kh"
      },
      "execution_count": null,
      "outputs": []
    },
    {
      "cell_type": "code",
      "source": [
        "# Generate predictions from the five models\n",
        "preds_test_rnn = model_rnn_reddit.predict(X_test_reshaped)\n",
        "preds_test_lstm = model_lstm_reddit.predict(X_test_reshaped)\n",
        "preds_test_gru = model_gru_reddit.predict(X_test_reshaped)\n",
        "preds_test_bilstm = model_bilstm_reddit.predict(X_test_reshaped)\n",
        "preds_test_bigru = model_bigru_reddit.predict(X_test_reshaped)\n",
        "\n",
        "# Stack the predictions into a single matrix\n",
        "base_preds_test_reddit = np.column_stack((preds_test_rnn, preds_test_lstm, preds_test_gru, preds_test_bilstm, preds_test_bigru))"
      ],
      "metadata": {
        "id": "ufqCRmJdm78z"
      },
      "execution_count": null,
      "outputs": []
    },
    {
      "cell_type": "markdown",
      "source": [
        "## Loading meta models and making predictions for train and test \n",
        "The best performing meta models from the two platforms (reddit and twitter) were the linear regression models, so those are used to create the stacekd meta-ensemble final model."
      ],
      "metadata": {
        "id": "wqBBm4cIsAT8"
      }
    },
    {
      "cell_type": "code",
      "source": [
        "# Loading the reddit meta model\n",
        "with open('/content/drive/MyDrive/FYP/ensemble_models/5_feature/reddit/lr_test_meta_model.pkl', 'rb') as f:\n",
        "    reddit_model = pickle.load(f)\n",
        "\n",
        "# Loading the twitter meta model\n",
        "with open('/content/drive/MyDrive/FYP/ensemble_models/5_feature/twitter/lr_test_meta_model.pkl', 'rb') as f:\n",
        "    twitter_model = pickle.load(f)"
      ],
      "metadata": {
        "id": "To62UWHVzbZD"
      },
      "execution_count": null,
      "outputs": []
    },
    {
      "cell_type": "code",
      "source": [
        "reddit_train_preds = reddit_model.predict(base_preds_train_reddit)\n",
        "twitter_train_preds = twitter_model.predict(base_preds_train_twitter)\n",
        "\n",
        "# Combining both predictions as a numpy column\n",
        "meta_model_train_preds = np.column_stack((reddit_train_preds, twitter_train_preds))"
      ],
      "metadata": {
        "id": "qMwWEmp5pcKT"
      },
      "execution_count": null,
      "outputs": []
    },
    {
      "cell_type": "code",
      "source": [
        "reddit_test_preds = reddit_model.predict(base_preds_test_reddit)\n",
        "twitter_test_preds = twitter_model.predict(base_preds_test_twitter)\n",
        "\n",
        "# Combining both predictions as a numpy column\n",
        "meta_model_test_preds = np.column_stack((reddit_test_preds, twitter_test_preds))"
      ],
      "metadata": {
        "id": "q6jPXi30qvZq"
      },
      "execution_count": null,
      "outputs": []
    },
    {
      "cell_type": "markdown",
      "source": [
        "## The final meta ensemble training and testing\n",
        "The regression models are fitted witht the valuse generated from the existing meta models to create the final meta ensemble model."
      ],
      "metadata": {
        "id": "6_ROiB_jwJ18"
      }
    },
    {
      "cell_type": "code",
      "source": [
        "def evaluate_meta_model(final_meta_model, meta_model_train_preds, meta_model_test_preds, y_train_scaled, y_test_scaled):\n",
        "    # Train the meta-model\n",
        "    meta_model = final_meta_model\n",
        "    meta_model.fit(meta_model_train_preds, y_train_scaled)\n",
        "\n",
        "    # Generate predictions from the meta-model\n",
        "    meta_model_test_preds = meta_model.predict(meta_model_test_preds)\n",
        "\n",
        "    # Reshape the predictions to be two-dimensional\n",
        "    meta_model_test_preds = meta_model_test_preds.reshape(-1, 1)\n",
        "\n",
        "    # Inverse transforming the scaled data\n",
        "    meta_model_test_preds_inv = scaler_y.inverse_transform(meta_model_test_preds)\n",
        "    y_test_actual = scaler_y.inverse_transform(y_test_scaled)\n",
        "\n",
        "    # Calculate the mean squared error, mean absolute error, and r2 score\n",
        "    rmse = np.sqrt(mean_squared_error(y_test_actual, meta_model_test_preds_inv, squared=False))\n",
        "    mae = mean_absolute_error(y_test_actual, meta_model_test_preds_inv)\n",
        "    r2 = r2_score(y_test_actual, meta_model_test_preds_inv)\n",
        "\n",
        "    print(f\"RMSE: {rmse:.4f}\")\n",
        "    print(f\"MAE: {mae:.4f}\")\n",
        "    print(f\"R^2 Score: {r2:.4f}\")\n",
        "    print(\"Prediction of bitcoin closing price: \", meta_model_test_preds_inv)"
      ],
      "metadata": {
        "id": "SP9RETw9xX1C"
      },
      "execution_count": null,
      "outputs": []
    },
    {
      "cell_type": "markdown",
      "source": [
        "### Linear regression"
      ],
      "metadata": {
        "id": "P4v4Oa3ywzOl"
      }
    },
    {
      "cell_type": "code",
      "source": [
        "final_meta_model = LinearRegression()\n",
        "evaluate_meta_model(final_meta_model, meta_model_train_preds, meta_model_test_preds, y_train_scaled, y_test_scaled)\n"
      ],
      "metadata": {
        "id": "qrKdFZCFxcGz"
      },
      "execution_count": null,
      "outputs": []
    },
    {
      "cell_type": "markdown",
      "source": [
        "### Decision tree regression"
      ],
      "metadata": {
        "id": "i4Hq3rhfw2Hs"
      }
    },
    {
      "cell_type": "code",
      "source": [
        "final_meta_model = DecisionTreeRegressor()\n",
        "evaluate_meta_model(final_meta_model, meta_model_train_preds, meta_model_test_preds, y_train_scaled, y_test_scaled)"
      ],
      "metadata": {
        "id": "bu_-HO8Uxj3j"
      },
      "execution_count": null,
      "outputs": []
    },
    {
      "cell_type": "markdown",
      "source": [
        "### Random forest regression"
      ],
      "metadata": {
        "id": "vy911gt3w8Pk"
      }
    },
    {
      "cell_type": "code",
      "source": [
        "final_meta_model = RandomForestRegressor()\n",
        "evaluate_meta_model(final_meta_model, meta_model_train_preds, meta_model_test_preds, y_train_scaled, y_test_scaled)"
      ],
      "metadata": {
        "id": "9u5eaxmWxp7z"
      },
      "execution_count": null,
      "outputs": []
    },
    {
      "cell_type": "markdown",
      "source": [
        "### Elastic net regression"
      ],
      "metadata": {
        "id": "oB4QiSj3xAS0"
      }
    },
    {
      "cell_type": "code",
      "source": [
        "final_meta_model = ElasticNet(alpha=0.015, l1_ratio=0.5, random_state=70)\n",
        "evaluate_meta_model(final_meta_model, meta_model_train_preds, meta_model_test_preds, y_train_scaled, y_test_scaled)"
      ],
      "metadata": {
        "colab": {
          "base_uri": "https://localhost:8080/"
        },
        "id": "iujgJA0UyygD",
        "outputId": "6b431ddb-b15f-4ff8-989f-4fc17e745828"
      },
      "execution_count": null,
      "outputs": [
        {
          "output_type": "stream",
          "name": "stdout",
          "text": [
            "RMSE: 50.5283\n",
            "MAE: 2204.0325\n",
            "R^2 Score: 0.8024\n",
            "Prediction of bitcoin closing price:  [[55779.32 ]\n",
            " [55825.2  ]\n",
            " [55761.16 ]\n",
            " ...\n",
            " [46577.17 ]\n",
            " [46752.38 ]\n",
            " [46680.594]]\n"
          ]
        }
      ]
    },
    {
      "cell_type": "markdown",
      "source": [
        "### Support vector regression"
      ],
      "metadata": {
        "id": "t5k-v_8fxEOU"
      }
    },
    {
      "cell_type": "code",
      "source": [
        "final_meta_model = SVR()\n",
        "evaluate_meta_model(final_meta_model, meta_model_train_preds, meta_model_test_preds, y_train_scaled, y_test_scaled)"
      ],
      "metadata": {
        "id": "lnp3byGkzPyb"
      },
      "execution_count": null,
      "outputs": []
    },
    {
      "cell_type": "markdown",
      "source": [
        "### Gradient boosting "
      ],
      "metadata": {
        "id": "yhD9ap7XxMEb"
      }
    },
    {
      "cell_type": "code",
      "source": [
        "final_meta_model = GradientBoostingRegressor()\n",
        "evaluate_meta_model(final_meta_model, meta_model_train_preds, meta_model_test_preds, y_train_scaled, y_test_scaled)\n",
        "\n",
        "# Save the model object\n",
        "with open('/content/drive/MyDrive/FYP/meta_ensembled_model/final_meta_model.pkl', 'wb') as f:\n",
        "    pickle.dump(final_meta_model, f)"
      ],
      "metadata": {
        "id": "IbjgV3ZD0Rlv"
      },
      "execution_count": null,
      "outputs": []
    },
    {
      "cell_type": "markdown",
      "source": [
        "### Ada boosting "
      ],
      "metadata": {
        "id": "9VvDiGtYxPYc"
      }
    },
    {
      "cell_type": "code",
      "source": [
        "final_meta_model = AdaBoostRegressor()\n",
        "evaluate_meta_model(final_meta_model, meta_model_train_preds, meta_model_test_preds, y_train_scaled, y_test_scaled)"
      ],
      "metadata": {
        "id": "yZ6LrpsY0cLa"
      },
      "execution_count": null,
      "outputs": []
    },
    {
      "cell_type": "markdown",
      "source": [
        "# Making predictions using the meta-ensemble model"
      ],
      "metadata": {
        "id": "6QW79ehPQxwG"
      }
    },
    {
      "cell_type": "markdown",
      "source": [
        "## Function to predict the close price using a csv file"
      ],
      "metadata": {
        "id": "5FxPYx_1RP-3"
      }
    },
    {
      "cell_type": "code",
      "source": [
        "def predict_close_price(file_path):\n",
        "\n",
        "  df = pd.read_csv(file_path)  \n",
        "\n",
        "  # Save the time column\n",
        "  times = df['timestamp']\n",
        "\n",
        "  # Defining the features for the model\n",
        "  features = ['pos', 'neg', 'neu', 'close', 'volume']\n",
        "\n",
        "  # Keeping the features\n",
        "  df = df[features]\n",
        "\n",
        "  # Shift the \"close\" column 1 hour into the future and make it the target variable\n",
        "  df[\"target\"] = df[\"close\"].shift(-1)\n",
        "  df = df.iloc[:-1]\n",
        "  \n",
        "  # Drop missing values\n",
        "  df = df.dropna()\n",
        "\n",
        "  # Split into features and target\n",
        "  X = df.drop('target', axis=1).values\n",
        "  y = df['target'].values.reshape(-1, 1)\n",
        "\n",
        "  # Scale the data\n",
        "  scaler_X = MinMaxScaler()\n",
        "  X = scaler_X.fit_transform(X)\n",
        "\n",
        "  scaler_y = MinMaxScaler()\n",
        "  y = scaler_y.fit_transform(y)\n",
        "\n",
        "  # Reshape input to be 3D [samples, timesteps, features]\n",
        "  n_features = X.shape[1]\n",
        "  X = X.reshape((X.shape[0], 1, n_features))\n",
        "\n",
        "  # Load the five saved base twitter models\n",
        "  model_rnn_twitter = load_model('/content/drive/MyDrive/FYP/rnn_base_models/5_features/twitter_rnn.h5')\n",
        "  model_lstm_twitter = load_model('/content/drive/MyDrive/FYP/rnn_base_models/5_features/twitter_lstm.h5')\n",
        "  model_gru_twitter = load_model('/content/drive/MyDrive/FYP/rnn_base_models/5_features/twitter_gru.h5')\n",
        "  model_bilstm_twitter = load_model('/content/drive/MyDrive/FYP/rnn_base_models/5_features/twitter_bilstm.h5')\n",
        "  model_bigru_twitter = load_model('/content/drive/MyDrive/FYP/rnn_base_models/5_features/twitter_bigru.h5')\n",
        "\n",
        "  # Load the five saved base reddit models\n",
        "  model_rnn_reddit = load_model('/content/drive/MyDrive/FYP/rnn_base_models/5_features/reddit_rnn.h5')\n",
        "  model_lstm_reddit = load_model('/content/drive/MyDrive/FYP/rnn_base_models/5_features/reddit_lstm.h5')\n",
        "  model_gru_reddit = load_model('/content/drive/MyDrive/FYP/rnn_base_models/5_features/reddit_gru.h5')\n",
        "  model_bilstm_reddit = load_model('/content/drive/MyDrive/FYP/rnn_base_models/5_features/reddit_bilstm.h5')\n",
        "  model_bigru_reddit = load_model('/content/drive/MyDrive/FYP/rnn_base_models/5_features/reddit_bigru.h5')\n",
        "\n",
        "  # Loading the reddit meta model\n",
        "  with open('/content/drive/MyDrive/FYP/ensemble_models/5_feature/reddit/lr_test_meta_model.pkl', 'rb') as f:\n",
        "      reddit_model = pickle.load(f)\n",
        "\n",
        "  # Loading the twitter meta model\n",
        "  with open('/content/drive/MyDrive/FYP/ensemble_models/5_feature/twitter/lr_test_meta_model.pkl', 'rb') as f:\n",
        "      twitter_model = pickle.load(f)\n",
        "\n",
        "  # Loading the meta-ensemble model \n",
        "  with open('/content/drive/MyDrive/FYP/meta_ensembled_model/final_meta_model.pkl', 'rb') as f:\n",
        "    final_meta_ensemble_model = pickle.load(f)\n",
        "\n",
        "  # Generate predictions from the five models\n",
        "  preds_test_rnn = model_rnn_twitter.predict(X)\n",
        "  preds_test_lstm = model_lstm_twitter.predict(X)\n",
        "  preds_test_gru = model_gru_twitter.predict(X)\n",
        "  preds_test_bilstm = model_bilstm_twitter.predict(X)\n",
        "  preds_test_bigru = model_bigru_twitter.predict(X)\n",
        "\n",
        "  # Stack the predictions into a single matrix\n",
        "  base_preds_test_twitter = np.column_stack((preds_test_rnn, preds_test_lstm, preds_test_gru, preds_test_bilstm, preds_test_bigru))\n",
        "\n",
        "  # Generate predictions from the five models\n",
        "  preds_test_rnn = model_rnn_reddit.predict(X)\n",
        "  preds_test_lstm = model_lstm_reddit.predict(X)\n",
        "  preds_test_gru = model_gru_reddit.predict(X)\n",
        "  preds_test_bilstm = model_bilstm_reddit.predict(X)\n",
        "  preds_test_bigru = model_bigru_reddit.predict(X)\n",
        "\n",
        "  # Stack the predictions into a single matrix\n",
        "  base_preds_test_reddit = np.column_stack((preds_test_rnn, preds_test_lstm, preds_test_gru, preds_test_bilstm, preds_test_bigru))\n",
        "\n",
        "  # Generate predictions using the ensemble models\n",
        "  reddit_test_preds = reddit_model.predict(base_preds_test_reddit)\n",
        "  twitter_test_preds = twitter_model.predict(base_preds_test_twitter)\n",
        "\n",
        "  # Combining both predictions as a numpy column\n",
        "  meta_model_test_preds = np.column_stack((reddit_test_preds, twitter_test_preds))\n",
        "\n",
        "  # Generating the final predictions\n",
        "  final_prediction = final_meta_ensemble_model.predict(meta_model_test_preds)\n",
        "  final_prediction = final_prediction.reshape(-1, 1) # reshape to match input shape\n",
        "  final_prediction = scaler_y.inverse_transform(final_prediction)\n",
        "\n",
        "  # Create a DataFrame with the actual and predicted values\n",
        "  actual_values = scaler_y.inverse_transform(y)\n",
        "  actual_values = actual_values.reshape(-1, 1)\n",
        "\n",
        "  # Combine predicted and actual values into a single dataframe with time column\n",
        "  predictions_df = pd.DataFrame({'timestamp': times.iloc[-final_prediction.shape[0]:], 'actual': actual_values.flatten(), 'predicted': final_prediction.flatten()})\n",
        "\n",
        "\n",
        "  # Create a line plot of the actual and predicted values\n",
        "  fig, ax = plt.subplots(figsize=(18, 8)) \n",
        "  ax.plot(predictions_df['timestamp'], predictions_df['actual'], label='Actual')\n",
        "  ax.plot(predictions_df['timestamp'], predictions_df['predicted'], label='Predicted')\n",
        "\n",
        "  # Add axis labels and a title\n",
        "  ax.set_xlabel('Time')\n",
        "  ax.set_ylabel('Close Price')\n",
        "  ax.set_title('Bitcoin Price Prediction')\n",
        "\n",
        "  # Add a legend\n",
        "  ax.legend()\n",
        "\n",
        "  # Display the plot\n",
        "  plt.show()\n",
        "\n",
        "  return predictions_df"
      ],
      "metadata": {
        "id": "LvZWkYjXNvsi"
      },
      "execution_count": null,
      "outputs": []
    },
    {
      "cell_type": "code",
      "source": [
        "test_prediction = predict_close_price('/content/drive/MyDrive/FYP/dataset/test_data/reddit_twitter_bitcoin_merged_shrunk.csv')\n",
        "print('')\n",
        "print('**********************************************')\n",
        "print(test_prediction)\n",
        "print('**********************************************')\n"
      ],
      "metadata": {
        "colab": {
          "base_uri": "https://localhost:8080/",
          "height": 1000
        },
        "id": "LG_W0wiJOlme",
        "outputId": "7ffc4e1c-1b9c-4b6d-fbe9-28194d6639aa"
      },
      "execution_count": null,
      "outputs": [
        {
          "output_type": "stream",
          "name": "stdout",
          "text": [
            "1/1 [==============================] - 1s 1s/step\n",
            "1/1 [==============================] - 1s 532ms/step\n",
            "1/1 [==============================] - 1s 594ms/step\n",
            "1/1 [==============================] - 1s 590ms/step\n"
          ]
        },
        {
          "output_type": "stream",
          "name": "stderr",
          "text": [
            "WARNING:tensorflow:5 out of the last 5 calls to <function Model.make_predict_function.<locals>.predict_function at 0x7f078423bf40> triggered tf.function retracing. Tracing is expensive and the excessive number of tracings could be due to (1) creating @tf.function repeatedly in a loop, (2) passing tensors with different shapes, (3) passing Python objects instead of tensors. For (1), please define your @tf.function outside of the loop. For (2), @tf.function has reduce_retracing=True option that can avoid unnecessary retracing. For (3), please refer to https://www.tensorflow.org/guide/function#controlling_retracing and https://www.tensorflow.org/api_docs/python/tf/function for  more details.\n"
          ]
        },
        {
          "output_type": "stream",
          "name": "stdout",
          "text": [
            "1/1 [==============================] - 1s 589ms/step\n"
          ]
        },
        {
          "output_type": "stream",
          "name": "stderr",
          "text": [
            "WARNING:tensorflow:6 out of the last 6 calls to <function Model.make_predict_function.<locals>.predict_function at 0x7f078408e4d0> triggered tf.function retracing. Tracing is expensive and the excessive number of tracings could be due to (1) creating @tf.function repeatedly in a loop, (2) passing tensors with different shapes, (3) passing Python objects instead of tensors. For (1), please define your @tf.function outside of the loop. For (2), @tf.function has reduce_retracing=True option that can avoid unnecessary retracing. For (3), please refer to https://www.tensorflow.org/guide/function#controlling_retracing and https://www.tensorflow.org/api_docs/python/tf/function for  more details.\n"
          ]
        },
        {
          "output_type": "stream",
          "name": "stdout",
          "text": [
            "1/1 [==============================] - 0s 483ms/step\n",
            "1/1 [==============================] - 0s 332ms/step\n",
            "1/1 [==============================] - 0s 386ms/step\n",
            "1/1 [==============================] - 0s 373ms/step\n",
            "1/1 [==============================] - 0s 401ms/step\n"
          ]
        },
        {
          "output_type": "display_data",
          "data": {
            "text/plain": [
              "<Figure size 1800x800 with 1 Axes>"
            ],
            "image/png": "[encoded data removed]"
          },
          "metadata": {}
        },
        {
          "output_type": "stream",
          "name": "stdout",
          "text": [
            "\n",
            "**********************************************\n",
            "             timestamp    actual     predicted\n",
            "1  2021-01-01 01:00:00  29409.99  29014.320503\n",
            "2  2021-01-01 02:00:00  29194.65  29391.058964\n",
            "3  2021-01-01 03:00:00  29278.40  29194.828045\n",
            "4  2021-01-01 04:00:00  29220.31  29273.821631\n",
            "5  2021-01-01 05:00:00  29187.01  29220.431080\n",
            "6  2021-01-01 06:00:00  29174.35  29189.885673\n",
            "7  2021-01-01 07:00:00  29092.83  29183.176157\n",
            "8  2021-01-01 08:00:00  29000.01  29092.923646\n",
            "**********************************************\n"
          ]
        }
      ]
    }
  ]
}