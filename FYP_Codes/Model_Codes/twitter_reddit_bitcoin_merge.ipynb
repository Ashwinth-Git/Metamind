{
  "nbformat": 4,
  "nbformat_minor": 0,
  "metadata": {
    "colab": {
      "provenance": []
    },
    "kernelspec": {
      "name": "python3",
      "display_name": "Python 3"
    },
    "language_info": {
      "name": "python"
    }
  },
  "cells": [
    {
      "cell_type": "markdown",
      "source": [
        "# Creating the final merged datasets"
      ],
      "metadata": {
        "id": "zntbWUtSD36F"
      }
    },
    {
      "cell_type": "code",
      "source": [
        "import pandas as pd"
      ],
      "metadata": {
        "id": "fPduck5f6FO6"
      },
      "execution_count": null,
      "outputs": []
    },
    {
      "cell_type": "markdown",
      "source": [
        "## Loading and cleaning the bitcoin dataset for the merge"
      ],
      "metadata": {
        "id": "namr49w1Iv8x"
      }
    },
    {
      "cell_type": "code",
      "source": [
        "hourly_bitcoin = pd.read_csv('/content/drive/MyDrive/FYP/dataset/Bitcoin/bitcoin_data.csv')"
      ],
      "metadata": {
        "id": "n7eE1brdFf4R"
      },
      "execution_count": null,
      "outputs": []
    },
    {
      "cell_type": "code",
      "source": [
        "hourly_bitcoin"
      ],
      "metadata": {
        "id": "8k0_skycFuij"
      },
      "execution_count": null,
      "outputs": []
    },
    {
      "cell_type": "code",
      "source": [
        "hourly_bitcoin.drop(columns=['close_time', 'quote_asset_volume', 'num_trades', 'taker_buy_base_asset_volume', 'taker_buy_quote_asset_volume', 'ignore'], inplace=True)\n"
      ],
      "metadata": {
        "id": "UacdVQJeGSuy"
      },
      "execution_count": null,
      "outputs": []
    },
    {
      "cell_type": "code",
      "source": [
        "# Remove duplicate rows\n",
        "hourly_bitcoin = hourly_bitcoin.drop_duplicates()\n",
        "\n",
        "# Remove rows with NaN values\n",
        "hourly_bitcoin = hourly_bitcoin.dropna()"
      ],
      "metadata": {
        "id": "06ZY_6YTGWMa"
      },
      "execution_count": null,
      "outputs": []
    },
    {
      "cell_type": "code",
      "source": [
        "hourly_bitcoin"
      ],
      "metadata": {
        "id": "5FtNs85IGkoL"
      },
      "execution_count": null,
      "outputs": []
    },
    {
      "cell_type": "code",
      "source": [
        "hourly_bitcoin = hourly_bitcoin.set_index('timestamp')"
      ],
      "metadata": {
        "id": "I3HquUB4HlTX"
      },
      "execution_count": null,
      "outputs": []
    },
    {
      "cell_type": "code",
      "source": [
        "hourly_bitcoin"
      ],
      "metadata": {
        "id": "1Aojzj2HHyDf"
      },
      "execution_count": null,
      "outputs": []
    },
    {
      "cell_type": "markdown",
      "source": [
        "## Loading, cleaning the sentiment analyzed twitter dataset and meging with the historical bitcoin data "
      ],
      "metadata": {
        "id": "sL7mVjtyJAba"
      }
    },
    {
      "cell_type": "code",
      "source": [
        "cleaned_tweets = pd.read_csv('/content/drive/MyDrive/FYP/dataset/Twitter/twitter_data_sentiment_complete_2021.csv')"
      ],
      "metadata": {
        "id": "LNt9QSA36I_t"
      },
      "execution_count": null,
      "outputs": []
    },
    {
      "cell_type": "code",
      "source": [
        "cleaned_tweets"
      ],
      "metadata": {
        "id": "tCJwG90o6hhq"
      },
      "execution_count": null,
      "outputs": []
    },
    {
      "cell_type": "code",
      "source": [
        "cleaned_tweets.drop('text_clean', axis=1)\n"
      ],
      "metadata": {
        "id": "jHA4dYrR6tGY"
      },
      "execution_count": null,
      "outputs": []
    },
    {
      "cell_type": "code",
      "source": [
        "type(cleaned_tweets)"
      ],
      "metadata": {
        "id": "qDg8xfT3DlbQ"
      },
      "execution_count": null,
      "outputs": []
    },
    {
      "cell_type": "code",
      "source": [
        "cleaned_tweets = cleaned_tweets.set_index('datetime')"
      ],
      "metadata": {
        "id": "PcbmMgJt603W"
      },
      "execution_count": null,
      "outputs": []
    },
    {
      "cell_type": "code",
      "source": [
        "cleaned_tweets"
      ],
      "metadata": {
        "id": "T4JZHr4QED_p"
      },
      "execution_count": null,
      "outputs": []
    },
    {
      "cell_type": "code",
      "source": [
        "cleaned_tweets.index = pd.to_datetime(cleaned_tweets.index)  # convert index to datetime if it's not already\n",
        "hourly_tweets = cleaned_tweets.resample('H').mean()"
      ],
      "metadata": {
        "id": "2p32Dag4FCGb"
      },
      "execution_count": null,
      "outputs": []
    },
    {
      "cell_type": "code",
      "source": [
        "hourly_tweets"
      ],
      "metadata": {
        "id": "6CGH9w-XFEWj"
      },
      "execution_count": null,
      "outputs": []
    },
    {
      "cell_type": "code",
      "source": [
        "# Remove duplicate rows\n",
        "hourly_tweets = hourly_tweets.drop_duplicates()\n",
        "\n",
        "# Remove rows with NaN values\n",
        "hourly_tweets = hourly_tweets.dropna()"
      ],
      "metadata": {
        "id": "XX7mXVwJHSyY"
      },
      "execution_count": null,
      "outputs": []
    },
    {
      "cell_type": "code",
      "source": [
        "hourly_tweets"
      ],
      "metadata": {
        "id": "xr3354kvHc7J"
      },
      "execution_count": null,
      "outputs": []
    },
    {
      "cell_type": "code",
      "source": [
        "hourly_tweets.index = hourly_tweets.index.astype(str).str.slice(stop=-6)\n",
        "hourly_tweets"
      ],
      "metadata": {
        "id": "07uvGxKDM20T"
      },
      "execution_count": null,
      "outputs": []
    },
    {
      "cell_type": "code",
      "source": [
        "final_hourly_twitter_bitcoin_merged_df = pd.merge(hourly_tweets, hourly_bitcoin, left_index=True, right_index=True, how='outer')"
      ],
      "metadata": {
        "id": "dsS4BfeILH8K"
      },
      "execution_count": null,
      "outputs": []
    },
    {
      "cell_type": "code",
      "source": [
        "final_hourly_twitter_bitcoin_merged_df"
      ],
      "metadata": {
        "id": "Vq0hNvJ2LPP7"
      },
      "execution_count": null,
      "outputs": []
    },
    {
      "cell_type": "code",
      "source": [
        "# Remove duplicate rows\n",
        "final_hourly_twitter_bitcoin_merged_df = final_hourly_twitter_bitcoin_merged_df.drop_duplicates()\n",
        "\n",
        "# Remove rows with NaN values\n",
        "final_hourly_twitter_bitcoin_merged_df = final_hourly_twitter_bitcoin_merged_df.dropna()"
      ],
      "metadata": {
        "id": "c5y65MIcK1DR"
      },
      "execution_count": null,
      "outputs": []
    },
    {
      "cell_type": "code",
      "source": [
        "final_hourly_twitter_bitcoin_merged_df"
      ],
      "metadata": {
        "id": "jgPJngzBN-xL"
      },
      "execution_count": null,
      "outputs": []
    },
    {
      "cell_type": "code",
      "source": [
        "final_hourly_twitter_bitcoin_merged_df.to_csv('/content/drive/MyDrive/FYP/dataset/Merged Dataset/twitter_bitcoin_merged.csv')"
      ],
      "metadata": {
        "id": "8PXBN1jeODNz"
      },
      "execution_count": null,
      "outputs": []
    },
    {
      "cell_type": "markdown",
      "source": [
        "### testing tweet volume"
      ],
      "metadata": {
        "id": "yqOjL2ACEfB3"
      }
    },
    {
      "cell_type": "code",
      "source": [
        "cleaned_tweets = pd.read_csv('/content/drive/MyDrive/FYP/dataset/Twitter/twitter_data_sentiment_complete_2021.csv')"
      ],
      "metadata": {
        "id": "yoZOf1yzDzGl"
      },
      "execution_count": null,
      "outputs": []
    },
    {
      "cell_type": "code",
      "source": [
        "cleaned_tweets"
      ],
      "metadata": {
        "id": "vHiHXwRbEkBs"
      },
      "execution_count": null,
      "outputs": []
    },
    {
      "cell_type": "code",
      "source": [
        "cleaned_tweets['datetime'] = pd.to_datetime(cleaned_tweets['datetime'])\n",
        "tweet_vol = cleaned_tweets.groupby(pd.Grouper(key='datetime', freq='H')).size().reset_index(name='tweet_count')"
      ],
      "metadata": {
        "id": "d0JQcP8TFAd-"
      },
      "execution_count": null,
      "outputs": []
    },
    {
      "cell_type": "code",
      "source": [
        "tweet_vol = tweet_vol.drop_duplicates()\n",
        "tweet_vol"
      ],
      "metadata": {
        "id": "1omJhLcVL8wS"
      },
      "execution_count": null,
      "outputs": []
    },
    {
      "cell_type": "markdown",
      "source": [
        "## Loading, cleaning the sentiment analyzed reddit dataset and meging with the historical bitcoin data "
      ],
      "metadata": {
        "id": "Jnt_GYpOJKup"
      }
    },
    {
      "cell_type": "code",
      "source": [
        "cleaned_reddit_posts = pd.read_csv('/content/drive/MyDrive/FYP/dataset/Reddit/reddit_data_sentiment_complete_2021.csv')"
      ],
      "metadata": {
        "id": "8iiy-9Mn2X_c"
      },
      "execution_count": null,
      "outputs": []
    },
    {
      "cell_type": "code",
      "source": [
        "cleaned_reddit_posts"
      ],
      "metadata": {
        "id": "2HXHRmDk2xOV"
      },
      "execution_count": null,
      "outputs": []
    },
    {
      "cell_type": "code",
      "source": [
        "cleaned_reddit_posts = cleaned_reddit_posts.set_index('timestamp')"
      ],
      "metadata": {
        "id": "mnbc0Xwq4aP7"
      },
      "execution_count": null,
      "outputs": []
    },
    {
      "cell_type": "code",
      "source": [
        "cleaned_reddit_posts"
      ],
      "metadata": {
        "id": "9CMp2YcA48kb"
      },
      "execution_count": null,
      "outputs": []
    },
    {
      "cell_type": "code",
      "source": [
        "cleaned_reddit_posts = cleaned_reddit_posts.rename(columns={'reddit_flair': 'flair', \n",
        "                                                            'reddit_tb_polarity': 'polarity', \n",
        "                                                            'reddit_tb_subjectivity': 'subjectivity',\n",
        "                                                            'reddit_sid_pos': 'pos',\n",
        "                                                            'reddit_sid_neg': 'neg',\n",
        "                                                            'reddit_sid_neu': 'neu',\n",
        "                                                            'reddit_sid_com': 'compound'})"
      ],
      "metadata": {
        "id": "YcjUnyGa4_qC"
      },
      "execution_count": null,
      "outputs": []
    },
    {
      "cell_type": "code",
      "source": [
        "cleaned_reddit_posts.index = pd.to_datetime(cleaned_reddit_posts.index)  # convert index to datetime if it's not already\n",
        "hourly_reddit_posts = cleaned_reddit_posts.resample('H').mean()"
      ],
      "metadata": {
        "id": "YN9mCVyt6bxK"
      },
      "execution_count": null,
      "outputs": []
    },
    {
      "cell_type": "code",
      "source": [
        "hourly_reddit_posts"
      ],
      "metadata": {
        "id": "ytazSJWt6-8I"
      },
      "execution_count": null,
      "outputs": []
    },
    {
      "cell_type": "code",
      "source": [
        "# Remove duplicate rows\n",
        "hourly_reddit_posts = hourly_reddit_posts.drop_duplicates()\n",
        "\n",
        "# Remove rows with NaN values\n",
        "hourly_reddit_posts = hourly_reddit_posts.dropna()"
      ],
      "metadata": {
        "id": "OCMgCeAd7Qfm"
      },
      "execution_count": null,
      "outputs": []
    },
    {
      "cell_type": "code",
      "source": [
        "hourly_reddit_posts"
      ],
      "metadata": {
        "id": "we6KbStT7TfJ"
      },
      "execution_count": null,
      "outputs": []
    },
    {
      "cell_type": "code",
      "source": [
        "hourly_reddit_posts.index = hourly_reddit_posts.index.astype(str)\n"
      ],
      "metadata": {
        "id": "wrtoaEX88OqC"
      },
      "execution_count": null,
      "outputs": []
    },
    {
      "cell_type": "code",
      "source": [
        "hourly_reddit_posts"
      ],
      "metadata": {
        "id": "0dPh2zdl-7rR"
      },
      "execution_count": null,
      "outputs": []
    },
    {
      "cell_type": "code",
      "source": [
        "final_hourly_reddit_bitcoin_merged_df = pd.merge(hourly_reddit_posts, hourly_bitcoin, on='timestamp', how='outer')"
      ],
      "metadata": {
        "id": "EZeuxoyC7VAv"
      },
      "execution_count": null,
      "outputs": []
    },
    {
      "cell_type": "code",
      "source": [
        "final_hourly_reddit_bitcoin_merged_df"
      ],
      "metadata": {
        "id": "VCK5brGB7-MH"
      },
      "execution_count": null,
      "outputs": []
    },
    {
      "cell_type": "code",
      "source": [
        "# Remove duplicate rows\n",
        "final_hourly_reddit_bitcoin_merged_df = final_hourly_reddit_bitcoin_merged_df.drop_duplicates()\n",
        "\n",
        "# Remove rows with NaN values\n",
        "final_hourly_reddit_bitcoin_merged_df = final_hourly_reddit_bitcoin_merged_df.dropna()"
      ],
      "metadata": {
        "id": "DgoXOA3hAo0D"
      },
      "execution_count": null,
      "outputs": []
    },
    {
      "cell_type": "code",
      "source": [
        "final_hourly_reddit_bitcoin_merged_df"
      ],
      "metadata": {
        "id": "dB6JdeP4Aww8"
      },
      "execution_count": null,
      "outputs": []
    },
    {
      "cell_type": "code",
      "source": [
        "final_hourly_reddit_bitcoin_merged_df.to_csv('/content/drive/MyDrive/FYP/dataset/Merged Dataset/reddit_bitcoin_merged.csv') "
      ],
      "metadata": {
        "id": "MxKl2jkYA8r1"
      },
      "execution_count": null,
      "outputs": []
    },
    {
      "cell_type": "markdown",
      "source": [
        "## Combining the reddit and twitter datasets merged with historical bitcoin data"
      ],
      "metadata": {
        "id": "AUqhcky2b97I"
      }
    },
    {
      "cell_type": "code",
      "source": [
        "import pandas as pd\n",
        "# Load the dataframes for the two datasets\n",
        "df_twitter = pd.read_csv('/content/drive/MyDrive/FYP/dataset/Merged Dataset/twitter_bitcoin_merged.csv')\n",
        "df_reddit = pd.read_csv('/content/drive/MyDrive/FYP/dataset/Merged Dataset/reddit_bitcoin_merged.csv')\n",
        "\n",
        "df_reddit = df_reddit.drop(columns=['flair', 'compound'])\n",
        "\n",
        "df_twitter = df_twitter.rename(columns={'Unnamed: 0': 'timestamp'})\n",
        "df_twitter = df_twitter.drop('compound', axis=1)"
      ],
      "metadata": {
        "id": "OjMylW-_cLP6"
      },
      "execution_count": null,
      "outputs": []
    },
    {
      "cell_type": "code",
      "source": [
        "col_names = {'polarity': 'r_polarity', 'subjectivity': 'r_subjectivity', 'pos': 'r_pos', 'neu': 'r_nue', 'neg': 'r_neg', 'open': 'r_open', 'high': 'r_high', 'low': 'r_low', 'close': 'r_close', 'volume': 'r_volume'}\n",
        "df_reddit = df_reddit.rename(columns=col_names)"
      ],
      "metadata": {
        "id": "WSDcfyyZcLwE"
      },
      "execution_count": null,
      "outputs": []
    },
    {
      "cell_type": "code",
      "source": [
        "df_reddit"
      ],
      "metadata": {
        "id": "MCbpDw7_cPJ8"
      },
      "execution_count": null,
      "outputs": []
    },
    {
      "cell_type": "code",
      "source": [
        "col_names = {'polarity': 't_polarity', 'subjectivity': 't_subjectivity', 'pos': 't_pos', 'neu': 't_nue', 'neg': 't_neg', 'open': 't_open', 'high': 't_high', 'low': 't_low', 'close': 't_close', 'volume': 't_volume'}\n",
        "df_twitter = df_twitter.rename(columns=col_names)"
      ],
      "metadata": {
        "id": "LkR03YT3cRCr"
      },
      "execution_count": null,
      "outputs": []
    },
    {
      "cell_type": "code",
      "source": [
        "df_twitter\n"
      ],
      "metadata": {
        "id": "MoLseqkscS0E"
      },
      "execution_count": null,
      "outputs": []
    },
    {
      "cell_type": "code",
      "source": [
        "# Concatenate them horizontally on the timestamp index\n",
        "df_combined = pd.concat([df_reddit, df_twitter], axis=1)\n",
        "\n",
        "# Drop the duplicate timestamp column\n",
        "df_combined = df_combined.loc[:,~df_combined.columns.duplicated()]\n"
      ],
      "metadata": {
        "id": "zrdUg5EecUWc"
      },
      "execution_count": null,
      "outputs": []
    },
    {
      "cell_type": "code",
      "source": [
        "df_combined = df_combined.dropna()\n"
      ],
      "metadata": {
        "id": "BSE4nSAZcXS1"
      },
      "execution_count": null,
      "outputs": []
    },
    {
      "cell_type": "code",
      "source": [
        "# combine t_polarity and r_polarity columns\n",
        "df_combined['polarity'] = (df_combined['t_polarity'] + df_combined['r_polarity']) / 2\n",
        "# combine t_subjectivity and r_subjectivity columns\n",
        "df_combined['subjectivity'] = (df_combined['t_subjectivity'] + df_combined['r_subjectivity']) / 2\n",
        "# combine t_pos and r_pos columns\n",
        "df_combined['pos'] = (df_combined['t_pos'] + df_combined['r_pos']) / 2\n",
        "# combine t_neg and r_neg columns\n",
        "df_combined['neg'] = (df_combined['t_neg'] + df_combined['r_neg']) / 2\n",
        "# combine t_neu and r_neu columns\n",
        "df_combined['neu'] = (df_combined['t_nue'] + df_combined['r_nue']) / 2\n",
        "# combine t_open and r_open columns\n",
        "df_combined['open'] = (df_combined['t_open'] + df_combined['r_open']) / 2\n",
        "# combine t_close and r_close columns\n",
        "df_combined['close'] = (df_combined['t_close'] + df_combined['r_close']) / 2\n",
        "# combine t_high and r_high columns\n",
        "df_combined['high'] = (df_combined['t_high'] + df_combined['r_high']) / 2\n",
        "# combine t_low and r_low columns\n",
        "df_combined['low'] = (df_combined['t_low'] + df_combined['r_low']) / 2\n",
        "# combine t_volume and r_volume columns\n",
        "df_combined['volume'] = (df_combined['t_volume'] + df_combined['r_volume']) / 2"
      ],
      "metadata": {
        "id": "icDC4sIncZxj"
      },
      "execution_count": null,
      "outputs": []
    },
    {
      "cell_type": "code",
      "source": [
        "# drop the original t_polarity and r_polarity columns\n",
        "df_combined.drop(['t_polarity', 'r_polarity'], axis=1, inplace=True)\n",
        "# drop the original t_subjectivity and r_subjectivity columns\n",
        "df_combined.drop(['t_subjectivity', 'r_subjectivity'], axis=1, inplace=True)\n",
        "# drop the original t_pos and r_pos columns\n",
        "df_combined.drop(['t_pos', 'r_pos'], axis=1, inplace=True)\n",
        "# drop the original t_neg and r_neg columns\n",
        "df_combined.drop(['t_neg', 'r_neg'], axis=1, inplace=True)\n",
        "# drop the original t_nue and r_nue columns\n",
        "df_combined.drop(['t_nue', 'r_nue'], axis=1, inplace=True)\n",
        "# drop the original t_open and r_open columns\n",
        "df_combined.drop(['t_open', 'r_open'], axis=1, inplace=True)\n",
        "# drop the original t_close and r_close columns\n",
        "df_combined.drop(['t_close', 'r_close'], axis=1, inplace=True)\n",
        "# drop the original t_high and r_high columns\n",
        "df_combined.drop(['t_high', 'r_high'], axis=1, inplace=True)\n",
        "# drop the original t_low and r_low columns\n",
        "df_combined.drop(['t_low', 'r_low'], axis=1, inplace=True)\n",
        "# drop the original t_volume and r_volume columns\n",
        "df_combined.drop(['t_volume', 'r_volume'], axis=1, inplace=True)"
      ],
      "metadata": {
        "id": "uEMJ1FaGcb7w"
      },
      "execution_count": null,
      "outputs": []
    },
    {
      "cell_type": "code",
      "source": [
        "# Set the index to be the timestamp column\n",
        "df_combined = df_combined.set_index('timestamp')"
      ],
      "metadata": {
        "id": "tiW8IH36cdrH"
      },
      "execution_count": null,
      "outputs": []
    },
    {
      "cell_type": "code",
      "source": [
        "# drop duplicate rows\n",
        "df_combined = df_combined.drop_duplicates()\n",
        "\n",
        "# drop rows with NaN values\n",
        "df_combined = df_combined.dropna()"
      ],
      "metadata": {
        "id": "ufCB9LN8cfbP"
      },
      "execution_count": null,
      "outputs": []
    },
    {
      "cell_type": "code",
      "source": [
        "df_combined\n"
      ],
      "metadata": {
        "id": "AQVGeuZichB_"
      },
      "execution_count": null,
      "outputs": []
    },
    {
      "cell_type": "code",
      "source": [
        "df_combined.to_csv('/content/drive/MyDrive/FYP/dataset/Merged Dataset/reddit_twitter_bitcoin_merged.csv') \n"
      ],
      "metadata": {
        "id": "m5Ecc2kScifY"
      },
      "execution_count": null,
      "outputs": []
    }
  ]
}